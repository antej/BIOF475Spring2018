{
 "cells": [
  {
   "cell_type": "markdown",
   "metadata": {
    "nbpresent": {
     "id": "7d7c783e-0f98-4219-b8e7-c7a1262c3b44"
    },
    "slideshow": {
     "slide_type": "slide"
    }
   },
   "source": [
    "# HOUSEKEEPING \n",
    "### - presentations next week (15 minutes each) - sign up for a slot\n",
    "### - any other questions/comments?\n",
    "\n",
    "# AGENDA\n",
    "### - Recap\n",
    "### - Visualization\n",
    "### - Visualization Basics\n",
    "### - Q & A"
   ]
  },
  {
   "cell_type": "markdown",
   "metadata": {
    "nbpresent": {
     "id": "cea1ebd8-d4e1-406c-b7e4-7b0367d58194"
    }
   },
   "source": [
    "# Notes on last week:\n",
    "\n",
    "### Dr. Pajevic: throwing away so many visualizations, Random Tree esp.\n",
    "\n",
    "### Jonathan's email:\n",
    "#### \"Interesting seeing all of machine learning tackled in one seminar. It's a lot to cover and was done very well. Still, I'm very glad I get more time.\"\n",
    "\n",
    "#### Recurrent neural networks work well with sequences. (see \"The Unreasonable Effectiveness of Recurrent Neural Networks\" blog)\n",
    "#### These deep models can still be very effective even with more modest datasets. (warning: overfitting)"
   ]
  },
  {
   "cell_type": "markdown",
   "metadata": {
    "nbpresent": {
     "id": "6dbed769-2322-452c-a2ab-88947e2183dc"
    }
   },
   "source": [
    "# Why is visualization so important?\n",
    "\n",
    "## - fireside\n",
    "## - design"
   ]
  },
  {
   "cell_type": "markdown",
   "metadata": {
    "nbpresent": {
     "id": "6cc1453d-5277-4181-aa7c-69f0de1af7ad"
    }
   },
   "source": [
    "# The Book\n",
    "### \"The Visual Display of Quantitative Information\" by Edward R.Tufte\n",
    "\n",
    "## Also The other book\n",
    "### \"Don't Make Me Think\" by Steve Krug \n",
    "\n",
    "### http://orange.biolab.si/ \n",
    "### http://www.informationisbeautiful.net/\n",
    "### http://stephanieevergreen.com/dataviz-checklist/\n",
    "### http://flowingdata.com/\n",
    "### https://github.com/Quartz/Chartbuilder - uses D3 and D4 and React"
   ]
  },
  {
   "cell_type": "markdown",
   "metadata": {
    "nbpresent": {
     "id": "cdefc650-fbaf-471e-ac18-81418dfdca50"
    }
   },
   "source": [
    "# Copernicus story"
   ]
  },
  {
   "cell_type": "markdown",
   "metadata": {
    "nbpresent": {
     "id": "58d29837-c097-4ebf-b653-66839af08f5e"
    }
   },
   "source": [
    "# What is represented here?\n",
    "![Cholera](475week12/snow-cholera.jpg)"
   ]
  },
  {
   "cell_type": "markdown",
   "metadata": {},
   "source": [
    "## John Snow dot map showing the clusters of cholera cases in the London epidemic of 1854\n",
    "https://en.wikipedia.org/wiki/John_Snow#Cholera"
   ]
  },
  {
   "cell_type": "markdown",
   "metadata": {
    "nbpresent": {
     "id": "57d576ae-da3a-4a1a-8d79-772a78bdb630"
    }
   },
   "source": [
    "# Visualization Basics\n",
    "\n",
    "### accurate (bad title, bad range, bad context, inaccurate data)\n",
    "\n",
    "### tell a story\n",
    "### kwyrwts - know what you want to say. (Bill Shander)\n",
    "### progressive depth - Stanford - drill down\n",
    "### linear story\n",
    "### flow charts - http://graphics.stanford.edu/papers/flow_map_layout/"
   ]
  },
  {
   "cell_type": "markdown",
   "metadata": {
    "nbpresent": {
     "id": "ae8d9dd8-8f21-44fd-8174-2d1e7e4b553c"
    }
   },
   "source": [
    "![flow](475week12/flow.jpg)"
   ]
  },
  {
   "cell_type": "markdown",
   "metadata": {
    "nbpresent": {
     "id": "681353dd-ad70-490a-8d1e-21ffdd7e14c4"
    }
   },
   "source": [
    "http://stephanieevergreen.com/dataviz-checklist/\n",
    "http://stephanieevergreen.com/wp-content/uploads/2014/05/DataVizChecklist_May2014.pdf\n",
    "![checklist first page only](475week12/DataVizChecklist1.png)"
   ]
  },
  {
   "cell_type": "markdown",
   "metadata": {
    "nbpresent": {
     "id": "52d34380-9c14-42f7-9cac-6e03481bf2cc"
    }
   },
   "source": [
    "http://complexdiagrams.com/properties\n",
    "![Complex Diagrams](475week12/VisualPropertiesTable2.gif)"
   ]
  },
  {
   "cell_type": "markdown",
   "metadata": {
    "nbpresent": {
     "id": "f56946ab-291f-4455-bb75-728ad594d91b"
    }
   },
   "source": [
    "## vector vs bitmap\n",
    "### downsampling\n",
    "### dimensionality reduction (better than PCA?) [for some cases]\n",
    "#### Reducing the Dimensionality of Data with Neural Networks\n",
    "http://homes.mpimf-heidelberg.mpg.de/~mhelmsta/pdf/2006%20Hinton%20Salakhudtkinov%20Science.pdf\n",
    "\n",
    "## education vs persuasion\n",
    "#### design for the shortest attention span possible - sometimes title is all you should need (labeling the axis just confirms)\n",
    "\n",
    "#### Hipmunk founder about the origins of their format said it came from a 100 year old train schedule. "
   ]
  },
  {
   "cell_type": "markdown",
   "metadata": {
    "nbpresent": {
     "id": "45c80a56-5ae3-4758-8d80-c3bb1b20a0c7"
    }
   },
   "source": [
    "## GPU processing\n",
    "\n",
    "## 3D visualization\n",
    "### - POVray\n",
    "### - ray tracing\n",
    "### - Utah NIH grad\n",
    "### - Uber multiplier story\n",
    "### - it's like a joke\n",
    "### - sometimes animation will help the 3D view"
   ]
  },
  {
   "cell_type": "markdown",
   "metadata": {
    "nbpresent": {
     "id": "5386b35e-4e3c-4d6a-a265-54a074a815c5"
    }
   },
   "source": [
    "## Blender API for scientific visualization\n",
    "### Features include\n",
    "### - Physics and Particles\n",
    "### - Liquid and softbody simulations\n",
    "### - Game creation\n",
    "### - Python support for scripting\n",
    "### - Video sequencer\n",
    "### Available for all common OS "
   ]
  },
  {
   "cell_type": "markdown",
   "metadata": {
    "nbpresent": {
     "id": "600ec253-d3a3-472b-8782-698f8c29b3e9"
    }
   },
   "source": [
    "## Scientific vis\n",
    "- http://msbarry.github.io/raceviz/2013-ashland-half-marathon/\n",
    "- http://www.qgis.org/en/site/\n",
    "- http://stateofjs.com/\n",
    "- http://www.bioblender.eu/ (http://www.bioblender.eu/gallery/\n",
    "- https://github.com/MonZop/BioBlender)\n",
    "- http://mcell.org/\n",
    "- https://github.com/zeffii/BlenderSciViz/blob/master/README.md\n",
    "- https://en.wikipedia.org/wiki/Biological_data_visualization\n",
    "- https://en.wikipedia.org/wiki/VisIt\n",
    "- https://en.wikipedia.org/wiki/ParaView\n",
    "- https://en.wikipedia.org/wiki/VTK"
   ]
  },
  {
   "cell_type": "markdown",
   "metadata": {
    "nbpresent": {
     "id": "eebacdd5-d46c-4a2e-b21a-8c77892f7b6e"
    }
   },
   "source": [
    "## Scientific vis gets cooler\n",
    "\n",
    "### http://www.r2d3.us/visual-intro-to-machine-learning-part-1/\n",
    "\n",
    "### http://distill.pub/2016/misread-tsne/"
   ]
  },
  {
   "cell_type": "markdown",
   "metadata": {
    "nbpresent": {
     "id": "12c7bed1-420d-467f-8915-81ad88236059"
    }
   },
   "source": [
    "# Influential Visualization People\n",
    "### it's not a visualization discussion until someone breaks out the Minard\n",
    "https://en.wikipedia.org/wiki/Charles_Joseph_Minard#Work\n",
    "\n",
    "### go to Tufte for inspiration\n",
    "### The Visual Display of Quantitative Information - book"
   ]
  },
  {
   "cell_type": "markdown",
   "metadata": {
    "nbpresent": {
     "id": "484c6b61-fced-4a2b-8352-eef5043893a0"
    }
   },
   "source": [
    "## David McCandless (from Data is Beautiful) and data compression\n",
    "![Knowledge is Beautiful book](475week12/DavidMcCandless.png)"
   ]
  },
  {
   "cell_type": "markdown",
   "metadata": {
    "nbpresent": {
     "id": "48d9e169-dd0a-4a75-bfa7-f5e5cb14b1fc"
    }
   },
   "source": [
    "## Hans Rosling and GapMinder bubbles\n",
    "\n",
    "http://www.gapminder.org/tools/#_chart-type=bubbles\n",
    "\n",
    "and Mountain Chart:\n",
    "http://www.gapminder.org/tools/#_chart-type=mountain\n",
    "\n",
    "Famous TED talk:\n",
    "https://www.youtube.com/watch?v=hVimVzgtD6w The best stats you've ever seen | Hans Rosling"
   ]
  },
  {
   "cell_type": "markdown",
   "metadata": {
    "nbpresent": {
     "id": "090243f4-00a9-4d2e-b85c-f4d11fbfcc08"
    }
   },
   "source": [
    "Influential Visualization People\n",
    "\n",
    "- http://datavisualization.ch\n",
    "- http://eagereyes.org\n",
    "- http://flowingdata.com\n",
    "- http://indexed.blogspot.com\n",
    "- http://informationdesign.org\n",
    "- http://strangemaps.wordpress.com\n",
    "- http://thefunctionalart.com\n",
    "- http://visualcomplexity.com/vc/\n",
    "- http://visualisingdata.com\n",
    "- http://visual.ly\n",
    "- homes.cs.washington.edu/~jheer/ (D3)\n",
    "- twitter.com/mbostock (D3)\n",
    "- http://mbtaviz.github.io/"
   ]
  },
  {
   "cell_type": "markdown",
   "metadata": {
    "nbpresent": {
     "id": "00cda072-ea93-4625-bf4c-e3d1891ea81f"
    }
   },
   "source": [
    "# Resources\n",
    "\n",
    "https://www.youtube.com/watch?v=pD_OvRtH0aY \"I Like Pretty Graphs: Best Practices for Data Visualization Assignments\" - UWDesignLab\n",
    "\n",
    "http://www.selfiecity.net/#selfiexploratory"
   ]
  },
  {
   "cell_type": "markdown",
   "metadata": {
    "nbpresent": {
     "id": "4aa51ee6-1a18-4d89-b251-6003d6911656"
    }
   },
   "source": []
  }
 ],
 "metadata": {
  "anaconda-cloud": {},
  "kernelspec": {
   "display_name": "Python 3",
   "language": "python",
   "name": "python3"
  },
  "language_info": {
   "codemirror_mode": {
    "name": "ipython",
    "version": 3
   },
   "file_extension": ".py",
   "mimetype": "text/x-python",
   "name": "python",
   "nbconvert_exporter": "python",
   "pygments_lexer": "ipython3",
   "version": "3.6.4"
  },
  "nbpresent": {
   "slides": {
    "06a3fb12-a9e4-4837-9582-a13ff8babfd6": {
     "id": "06a3fb12-a9e4-4837-9582-a13ff8babfd6",
     "prev": "46c440c7-d339-41d9-828f-9fcc2a7fd54e",
     "regions": {
      "c4931c6a-752f-4959-8250-e8e892cae859": {
       "attrs": {
        "height": 0.8,
        "width": 0.8,
        "x": 0.1,
        "y": 0.1
       },
       "content": {
        "cell": "f56946ab-291f-4455-bb75-728ad594d91b",
        "part": "whole"
       },
       "id": "c4931c6a-752f-4959-8250-e8e892cae859"
      }
     }
    },
    "08c7ab03-fcd7-401b-9e01-e227c4cb7ee7": {
     "id": "08c7ab03-fcd7-401b-9e01-e227c4cb7ee7",
     "prev": "faea8d53-0e53-4757-b655-d82b7b513065",
     "regions": {
      "280e0cb1-09c5-4f6b-a0e6-094de610645c": {
       "attrs": {
        "height": 0.8,
        "width": 0.8,
        "x": 0.1,
        "y": 0.1
       },
       "content": {
        "cell": "ae8d9dd8-8f21-44fd-8174-2d1e7e4b553c",
        "part": "whole"
       },
       "id": "280e0cb1-09c5-4f6b-a0e6-094de610645c"
      }
     }
    },
    "213d5515-2334-4c54-ab25-f0759914185a": {
     "id": "213d5515-2334-4c54-ab25-f0759914185a",
     "prev": "7c2ca987-ae84-4cfb-8b8d-e69e00f5ca79",
     "regions": {
      "439336dd-ab81-4d55-aa0e-b142ec483e39": {
       "attrs": {
        "height": 0.8,
        "width": 0.8,
        "x": 0.1,
        "y": 0.1
       },
       "content": {
        "cell": "58d29837-c097-4ebf-b653-66839af08f5e",
        "part": "whole"
       },
       "id": "439336dd-ab81-4d55-aa0e-b142ec483e39"
      }
     }
    },
    "2174b3c7-21d7-4260-b030-081d3398f301": {
     "id": "2174b3c7-21d7-4260-b030-081d3398f301",
     "prev": "b0c3d715-7c1d-44a7-a9f3-b323eeb679f7",
     "regions": {
      "7bf6b8e7-b159-4721-9559-36705f457b59": {
       "attrs": {
        "height": 0.8,
        "width": 0.8,
        "x": 0.1,
        "y": 0.1
       },
       "content": {
        "cell": "7c51319c-08c8-4122-be81-839919a9e4cb",
        "part": "whole"
       },
       "id": "7bf6b8e7-b159-4721-9559-36705f457b59"
      }
     }
    },
    "2a84e5a4-a8da-4ca5-b751-c09251c40996": {
     "id": "2a84e5a4-a8da-4ca5-b751-c09251c40996",
     "prev": null,
     "regions": {
      "c8711f35-c05a-4c0f-b6b9-19e97cc8443c": {
       "attrs": {
        "height": 0.8,
        "width": 0.8,
        "x": 0.1,
        "y": 0.1
       },
       "content": {
        "cell": "7d7c783e-0f98-4219-b8e7-c7a1262c3b44",
        "part": "whole"
       },
       "id": "c8711f35-c05a-4c0f-b6b9-19e97cc8443c"
      }
     }
    },
    "46c440c7-d339-41d9-828f-9fcc2a7fd54e": {
     "id": "46c440c7-d339-41d9-828f-9fcc2a7fd54e",
     "prev": "90f5b99f-18cc-4a23-b08c-d19cdb75e4ee",
     "regions": {
      "dc0298f3-c818-4823-b9fe-3a77d451b095": {
       "attrs": {
        "height": 0.8,
        "width": 0.8,
        "x": 0.1,
        "y": 0.1
       },
       "content": {
        "cell": "52d34380-9c14-42f7-9cac-6e03481bf2cc",
        "part": "whole"
       },
       "id": "dc0298f3-c818-4823-b9fe-3a77d451b095"
      }
     }
    },
    "4fdf6035-813b-47e6-bfa6-cbd2ea3c2ad3": {
     "id": "4fdf6035-813b-47e6-bfa6-cbd2ea3c2ad3",
     "prev": "53d9b55b-3b7c-4cd9-a75e-e81f37dacade",
     "regions": {
      "a66912b9-ec30-4c60-94d1-ce12651e29aa": {
       "attrs": {
        "height": 0.8,
        "width": 0.8,
        "x": 0.1,
        "y": 0.1
       },
       "content": {
        "cell": "7238acfe-a699-43ca-ba86-21c59e325b4a",
        "part": "whole"
       },
       "id": "a66912b9-ec30-4c60-94d1-ce12651e29aa"
      }
     }
    },
    "53d9b55b-3b7c-4cd9-a75e-e81f37dacade": {
     "id": "53d9b55b-3b7c-4cd9-a75e-e81f37dacade",
     "prev": "2174b3c7-21d7-4260-b030-081d3398f301",
     "regions": {
      "062e5f4a-1b80-4bb7-a529-545671a9d006": {
       "attrs": {
        "height": 0.8,
        "width": 0.8,
        "x": 0.1,
        "y": 0.1
       },
       "content": {
        "cell": "00cda072-ea93-4625-bf4c-e3d1891ea81f",
        "part": "whole"
       },
       "id": "062e5f4a-1b80-4bb7-a529-545671a9d006"
      }
     }
    },
    "71fdf016-0ea6-4685-91d8-8117cb99b701": {
     "id": "71fdf016-0ea6-4685-91d8-8117cb99b701",
     "prev": "9961ce1a-bbb4-4754-9f7d-e067f7115f4f",
     "regions": {
      "0d902244-8f13-4596-b2bd-b9c6b792f7cd": {
       "attrs": {
        "height": 0.8,
        "width": 0.8,
        "x": 0.1,
        "y": 0.1
       },
       "content": {
        "cell": "12c7bed1-420d-467f-8915-81ad88236059",
        "part": "whole"
       },
       "id": "0d902244-8f13-4596-b2bd-b9c6b792f7cd"
      }
     }
    },
    "7283132d-2a98-496a-bdd7-b9a7d1bf71cd": {
     "id": "7283132d-2a98-496a-bdd7-b9a7d1bf71cd",
     "prev": "b7e83cde-40b8-4666-bff1-94f0091237ce",
     "regions": {
      "ab80e4c3-9a93-4dbf-98cd-23495bbc6454": {
       "attrs": {
        "height": 0.8,
        "width": 0.8,
        "x": 0.1,
        "y": 0.1
       },
       "content": {
        "cell": "6dbed769-2322-452c-a2ab-88947e2183dc",
        "part": "whole"
       },
       "id": "ab80e4c3-9a93-4dbf-98cd-23495bbc6454"
      }
     }
    },
    "7c2ca987-ae84-4cfb-8b8d-e69e00f5ca79": {
     "id": "7c2ca987-ae84-4cfb-8b8d-e69e00f5ca79",
     "prev": "bf3a838f-53db-4de2-b4b4-5acee3f5c930",
     "regions": {
      "b4a1bf9f-40a3-4ae5-97cd-b84109aee6b2": {
       "attrs": {
        "height": 0.8,
        "width": 0.8,
        "x": 0.1,
        "y": 0.1
       },
       "content": {
        "cell": "cdefc650-fbaf-471e-ac18-81418dfdca50",
        "part": "whole"
       },
       "id": "b4a1bf9f-40a3-4ae5-97cd-b84109aee6b2"
      }
     }
    },
    "8ad392cb-9136-4b81-bcd2-08a2619eabd8": {
     "id": "8ad392cb-9136-4b81-bcd2-08a2619eabd8",
     "prev": "4fdf6035-813b-47e6-bfa6-cbd2ea3c2ad3",
     "regions": {
      "5deefbb1-edfe-4291-ba59-c98f681e8132": {
       "attrs": {
        "height": 0.8,
        "width": 0.8,
        "x": 0.1,
        "y": 0.1
       },
       "content": {
        "cell": "4aa51ee6-1a18-4d89-b251-6003d6911656",
        "part": "whole"
       },
       "id": "5deefbb1-edfe-4291-ba59-c98f681e8132"
      }
     }
    },
    "90f5b99f-18cc-4a23-b08c-d19cdb75e4ee": {
     "id": "90f5b99f-18cc-4a23-b08c-d19cdb75e4ee",
     "prev": "08c7ab03-fcd7-401b-9e01-e227c4cb7ee7",
     "regions": {
      "209cacda-8c53-45d1-af84-752ce893a0c6": {
       "attrs": {
        "height": 0.8,
        "width": 0.8,
        "x": 0.1,
        "y": 0.1
       },
       "content": {
        "cell": "681353dd-ad70-490a-8d1e-21ffdd7e14c4",
        "part": "whole"
       },
       "id": "209cacda-8c53-45d1-af84-752ce893a0c6"
      }
     }
    },
    "9961ce1a-bbb4-4754-9f7d-e067f7115f4f": {
     "id": "9961ce1a-bbb4-4754-9f7d-e067f7115f4f",
     "prev": "fecc7f3f-6547-43a0-b2ac-85faa8ae08b0",
     "regions": {
      "4804815a-f36c-499c-8ec8-af56d00c7687": {
       "attrs": {
        "height": 0.8,
        "width": 0.8,
        "x": 0.1,
        "y": 0.1
       },
       "content": {
        "cell": "eebacdd5-d46c-4a2e-b21a-8c77892f7b6e",
        "part": "whole"
       },
       "id": "4804815a-f36c-499c-8ec8-af56d00c7687"
      }
     }
    },
    "a0d99370-dd6e-44ad-9128-7db566e13b5d": {
     "id": "a0d99370-dd6e-44ad-9128-7db566e13b5d",
     "prev": "06a3fb12-a9e4-4837-9582-a13ff8babfd6",
     "regions": {
      "fff1e75b-3712-438f-96c3-ac2642411ae4": {
       "attrs": {
        "height": 0.8,
        "width": 0.8,
        "x": 0.1,
        "y": 0.1
       },
       "content": {
        "cell": "45c80a56-5ae3-4758-8d80-c3bb1b20a0c7",
        "part": "whole"
       },
       "id": "fff1e75b-3712-438f-96c3-ac2642411ae4"
      }
     }
    },
    "b0c3d715-7c1d-44a7-a9f3-b323eeb679f7": {
     "id": "b0c3d715-7c1d-44a7-a9f3-b323eeb679f7",
     "prev": "e70add54-b81a-4745-b063-06f52ec926ec",
     "regions": {
      "e0739125-5a87-4623-afa2-0a0a643482f6": {
       "attrs": {
        "height": 0.8,
        "width": 0.8,
        "x": 0.1,
        "y": 0.1
       },
       "content": {
        "cell": "090243f4-00a9-4d2e-b85c-f4d11fbfcc08",
        "part": "whole"
       },
       "id": "e0739125-5a87-4623-afa2-0a0a643482f6"
      }
     }
    },
    "b7e83cde-40b8-4666-bff1-94f0091237ce": {
     "id": "b7e83cde-40b8-4666-bff1-94f0091237ce",
     "prev": "2a84e5a4-a8da-4ca5-b751-c09251c40996",
     "regions": {
      "03ed3221-7992-4df6-a6f0-1b223f99a8b4": {
       "attrs": {
        "height": 0.8,
        "width": 0.8,
        "x": 0.1,
        "y": 0.1
       },
       "content": {
        "cell": "cea1ebd8-d4e1-406c-b7e4-7b0367d58194",
        "part": "whole"
       },
       "id": "03ed3221-7992-4df6-a6f0-1b223f99a8b4"
      }
     }
    },
    "b8286bff-d04f-4904-92c3-eebdad21b7af": {
     "id": "b8286bff-d04f-4904-92c3-eebdad21b7af",
     "prev": "71fdf016-0ea6-4685-91d8-8117cb99b701",
     "regions": {
      "e493a6aa-17da-46e8-818f-b08dfa78ef84": {
       "attrs": {
        "height": 0.8,
        "width": 0.8,
        "x": 0.1,
        "y": 0.1
       },
       "content": {
        "cell": "484c6b61-fced-4a2b-8352-eef5043893a0",
        "part": "whole"
       },
       "id": "e493a6aa-17da-46e8-818f-b08dfa78ef84"
      }
     }
    },
    "bf3a838f-53db-4de2-b4b4-5acee3f5c930": {
     "id": "bf3a838f-53db-4de2-b4b4-5acee3f5c930",
     "prev": "7283132d-2a98-496a-bdd7-b9a7d1bf71cd",
     "regions": {
      "5ab93823-d12f-4d6c-a7a7-982c600f3030": {
       "attrs": {
        "height": 0.8,
        "width": 0.8,
        "x": 0.1,
        "y": 0.1
       },
       "content": {
        "cell": "6cc1453d-5277-4181-aa7c-69f0de1af7ad",
        "part": "whole"
       },
       "id": "5ab93823-d12f-4d6c-a7a7-982c600f3030"
      }
     }
    },
    "e70add54-b81a-4745-b063-06f52ec926ec": {
     "id": "e70add54-b81a-4745-b063-06f52ec926ec",
     "prev": "b8286bff-d04f-4904-92c3-eebdad21b7af",
     "regions": {
      "92ed91c0-8547-4424-bca0-b7cf04db0fbf": {
       "attrs": {
        "height": 0.8,
        "width": 0.8,
        "x": 0.1,
        "y": 0.1
       },
       "content": {
        "cell": "48d9e169-dd0a-4a75-bfa7-f5e5cb14b1fc",
        "part": "whole"
       },
       "id": "92ed91c0-8547-4424-bca0-b7cf04db0fbf"
      }
     }
    },
    "f611ba95-c57e-42c5-8b80-e07667114d6e": {
     "id": "f611ba95-c57e-42c5-8b80-e07667114d6e",
     "prev": "a0d99370-dd6e-44ad-9128-7db566e13b5d",
     "regions": {
      "ebb835e8-3bf9-4496-98ac-cef03f733b7b": {
       "attrs": {
        "height": 0.8,
        "width": 0.8,
        "x": 0.1,
        "y": 0.1
       },
       "content": {
        "cell": "5386b35e-4e3c-4d6a-a265-54a074a815c5",
        "part": "whole"
       },
       "id": "ebb835e8-3bf9-4496-98ac-cef03f733b7b"
      }
     }
    },
    "faea8d53-0e53-4757-b655-d82b7b513065": {
     "id": "faea8d53-0e53-4757-b655-d82b7b513065",
     "prev": "213d5515-2334-4c54-ab25-f0759914185a",
     "regions": {
      "19c96982-f9ae-442d-88cc-0b8d82faee9d": {
       "attrs": {
        "height": 0.8,
        "width": 0.8,
        "x": 0.1,
        "y": 0.1
       },
       "content": {
        "cell": "57d576ae-da3a-4a1a-8d79-772a78bdb630",
        "part": "whole"
       },
       "id": "19c96982-f9ae-442d-88cc-0b8d82faee9d"
      }
     }
    },
    "fecc7f3f-6547-43a0-b2ac-85faa8ae08b0": {
     "id": "fecc7f3f-6547-43a0-b2ac-85faa8ae08b0",
     "prev": "f611ba95-c57e-42c5-8b80-e07667114d6e",
     "regions": {
      "649c71cf-75e7-4965-87c2-b547a4d94a3b": {
       "attrs": {
        "height": 0.8,
        "width": 0.8,
        "x": 0.1,
        "y": 0.1
       },
       "content": {
        "cell": "600ec253-d3a3-472b-8782-698f8c29b3e9",
        "part": "whole"
       },
       "id": "649c71cf-75e7-4965-87c2-b547a4d94a3b"
      }
     }
    }
   },
   "themes": {}
  }
 },
 "nbformat": 4,
 "nbformat_minor": 1
}
