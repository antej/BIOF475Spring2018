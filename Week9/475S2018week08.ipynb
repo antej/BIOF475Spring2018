{
 "cells": [
  {
   "cell_type": "markdown",
   "metadata": {
    "nbpresent": {
     "id": "7d7c783e-0f98-4219-b8e7-c7a1262c3b44"
    },
    "slideshow": {
     "slide_type": "slide"
    }
   },
   "source": [
    "# HOUSEKEEPING \n",
    "### - everyone able to access the videos and last week's lecture?\n",
    "### - any other questions/comments?\n",
    "\n",
    "## AGENDA\n",
    "### - Team Recap\n",
    "### - Homework\n",
    "### - Data Janitor\n",
    "### - Q & A"
   ]
  },
  {
   "cell_type": "markdown",
   "metadata": {
    "nbpresent": {
     "id": "9502d9e9-ce13-4bd5-bd8b-1e4be7fb1ebb"
    },
    "slideshow": {
     "slide_type": "slide"
    }
   },
   "source": [
    "# Team Recap\n",
    "\n",
    "## important takeaways\n",
    "### - Language comparison: Java = native, R = statistical (RAM), Python = general, Julia = scientific, Scala = realtime (RDD), Clojure = functional (also: Pig Latin and HiveQL)\n",
    "\n",
    "# Week 9\n",
    "\n",
    "# Project updates and homework expectations"
   ]
  },
  {
   "cell_type": "markdown",
   "metadata": {},
   "source": [
    "# Homework \n",
    "## Regression Algorithms\n",
    "\n",
    "    * Linear Regression\n",
    "    * Regression Trees(e.g. Random Forest)\n",
    "    * Support Vector Regression (SVR)\n",
    "    * etc\n",
    "    \n",
    "## Algorithms for classification\n",
    "\n",
    "    * Decision Trees\n",
    "    * Logistic Regression\n",
    "    * Naive Bayes\n",
    "    * K Nearest Neighbors\n",
    "    * Linear SVC (Support vector Classifier)\n",
    "    * etc\n",
    "    \n",
    "## Classification VS Regression\n",
    "\n",
    "### Classification: Discrete valued Y (e.g. 1,2,3 and 4)\n",
    "\n",
    "### Regression: Continues Values Y (e.g. 222.6, 300, 568,…)"
   ]
  },
  {
   "cell_type": "markdown",
   "metadata": {},
   "source": [
    "## - data wrangling: AKA (Also Known As) \n",
    "#### • Data Preprocessing \n",
    "#### • Data Preparation \n",
    "#### • Data Cleansing \n",
    "#### • Data Scrubbing \n",
    "#### • Data Munging \n",
    "#### • Data Transformation \n",
    "#### • Data Fold, Spindle, Mutilate"
   ]
  },
  {
   "cell_type": "markdown",
   "metadata": {},
   "source": [
    "## https://www.nytimes.com/2014/08/18/technology/for-big-data-scientists-hurdle-to-insights-is-janitor-work.html\n",
    "\n",
    "# Why Pareto?\n",
    "### The Pareto principle (also known as the 80/20 rule, the law of the vital few, or the principle of factor sparsity) states that, for many events, roughly 80% of the effects come from 20% of the causes."
   ]
  },
  {
   "cell_type": "markdown",
   "metadata": {},
   "source": [
    "#### Credit: http://www.storybench.org/wp-content/uploads/2017/05/tidyverse.png\n",
    "![TidyVerse](475week08/tidyverse.png)"
   ]
  },
  {
   "cell_type": "markdown",
   "metadata": {
    "collapsed": true,
    "nbpresent": {
     "id": "a8089c07-49c4-4212-970a-997d6084c0b3"
    }
   },
   "source": [
    "### Stop the vicious cycle --- \n",
    "\n",
    "#### Bad Data -> Incorrect Analysis -> Invalid Insights -> Wrong Decisions -> Poor Outcomes \n",
    "\n",
    "#### Data Quality Issue by Gartner Report -- By 2017, 33% of the largest global companies will experience an information crisis due to their inability to adequately value, govern and trust their enterprise information. \n",
    "\n",
    "### Beware: If you torture the data long enough, it will confess to anything – Darrell Huff\n",
    "\n",
    "### Noise to Signal? DB Machine sensor Data has a habit of replicating itself"
   ]
  },
  {
   "cell_type": "markdown",
   "metadata": {},
   "source": [
    "### Data Wrangling steps:\n",
    "##### Obtain -> Understand -> Transform -> Augment -> Shape \n",
    "\n",
    "### An approximate answer to the right problem is worth a good deal more than an exact answer to an approximate problem. – John Tukey\n",
    "\n",
    "##### Iterative process:\n",
    "##### Understand - Explore - Transform - Augment - Visualize Share\n",
    "\n",
    "### Understand your data DALDFWSFOEWRBOSDCALAXORDJFKMCO Or DAL DFW SFO EWR BOS DCA LAX ORD JFK MCO\n",
    "\n",
    "### Outliers Age (Years) 75 80 65 55 67 78 88 90 45 58 69 80 110 ??? 75 80 65 55 67 78 88 90 45 58 69 80 110"
   ]
  },
  {
   "cell_type": "markdown",
   "metadata": {},
   "source": [
    "## Good example\n",
    "### https://github.com/bsweger/pandas-munging/blob/master/pandas_data_munging.ipynb\n",
    "\n",
    "## R\n",
    "### Tidy Data (5 rules from R guy) http://vita.had.co.nz/papers/tidy-data.pdf and offline\n",
    "\n",
    "## Python\n",
    "## Terrible example - far away from the real world\n",
    "## http://wavedatalab.github.io/datawithpython/munge.html\n",
    "\n",
    "#### http://www.developintelligence.com/blog/2017/08/data-cleaning-pandas-python/\n",
    "#### https://github.com/jvns/pandas-cookbook/blob/master/cookbook/Chapter%207%20-%20Cleaning%20up%20messy%20data.ipynb\n",
    "#### https://github.com/jvns/pandas-cookbook/blob/master/cookbook/Chapter%207%20-%20Cleaning%20up%20messy%20data.ipynb"
   ]
  },
  {
   "cell_type": "markdown",
   "metadata": {},
   "source": [
    "Missing Values\n",
    "Missing with a bias \n",
    "Missing @ Random \n",
    "Missing completely \n",
    "Missing due to inapplicability \n",
    "Missing due to invalid data and ingestion\n",
    "\n",
    "Types of data \n",
    "• Qualitative – Subjective \n",
    "• Quantitative – Discrete – Continuous \n",
    "• Categorical\n",
    "\n",
    "\n",
    "• Credible \n",
    "• Complete \n",
    "• Verifiable \n",
    "• Accurate \n",
    "• Current \n",
    "• Compliance Data Source Selection Criteria \n",
    "• Accessible \n",
    "• Cost \n",
    "• Legal \n",
    "• Security \n",
    "• Storage \n",
    "• Provenance\n",
    "\n",
    "Tidy Data (5 rules from R guy)\n",
    "http://vita.had.co.nz/papers/tidy-data.pdf and [offline](475week08/tidy-data.pdf)\n",
    "\n",
    "Schema-On-Design Vs Schema-On-Read\n",
    "\n",
    "http://schoolofdata.org/ http://okfnlabs.org/\n",
    "\n",
    "Hands on Data Wrangling • Data Ingestion – CSV – PDF – API/JSON – HTML Web Scraping • Data Exploration – Visual inspection – Graphing • Data Shaping – Tidying Data • Data Cleansing – Missing values – Format – Outliers – Data Errors Per Domain – Fat Fingered Data • Data Augmenting – Aggregate data sources – Fuzzy/Exact match\n",
    "\n",
    "R Basics • Data Types – Numeric – Character – Logical – Categorical aka Factor – Date – List – Matrix – Data Frame – Data Table • Regular Expressions • Libraries – stringr – dplyr – tidyr – readxl, xlsx – lubridate – gtools – plyr – rvest • Control Statements\n",
    "\n",
    "Trifacta Wrangler (free, but proprietary)\n",
    "\n",
    "Google’s Open Refine\n",
    "\n",
    "http://community.pentaho.com/projects/data-integration/ Kettle - open source\n",
    "\n",
    "\n",
    "Why do you care? \n",
    "-Better Outcomes \n",
    "-Tooling Innovation \n",
    "-Increased Productivity \n",
    "-Ease of use \n",
    "-Lessened skill gap \n",
    "-Great skill to have (Indeed.com)\n",
    "\n",
    "https://en.wikipedia.org/wiki/Curse_of_dimensionality\n",
    "\n",
    "https://en.wikipedia.org/wiki/Convolutional_neural_network\n",
    "\n",
    "Artificial neural network -> Deep learning\n",
    "\n",
    "https://github.com/Microsoft/CNTK\n",
    "https://weka.waikato.ac.nz/explorer\n",
    "\n",
    "notice the lack of Deep Learning on the map:\n",
    "http://xyz.insightdataengineering.com/blog/pipeline_map.html\n",
    "\n",
    "conceptually you have to understand what is going on.\n",
    "you have to understand why is it used/there?\n",
    "you have to recreate to start fresh most of the time - automation is key.\n",
    "\n",
    "http://nisc.nih.gov/"
   ]
  },
  {
   "cell_type": "markdown",
   "metadata": {
    "nbpresent": {
     "id": "33feb495-c55d-4500-acdb-f8ac4f3fcf95"
    }
   },
   "source": [
    "# Electoral Precedent \n",
    "https://xkcd.com/1122/ or ![offline](475week08/electoral_precedent.png)"
   ]
  }
 ],
 "metadata": {
  "anaconda-cloud": {},
  "kernelspec": {
   "display_name": "Python 3",
   "language": "python",
   "name": "python3"
  },
  "language_info": {
   "codemirror_mode": {
    "name": "ipython",
    "version": 3
   },
   "file_extension": ".py",
   "mimetype": "text/x-python",
   "name": "python",
   "nbconvert_exporter": "python",
   "pygments_lexer": "ipython3",
   "version": "3.6.4"
  },
  "nbpresent": {
   "slides": {},
   "themes": {}
  }
 },
 "nbformat": 4,
 "nbformat_minor": 1
}
