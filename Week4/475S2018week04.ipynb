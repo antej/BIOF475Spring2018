{
 "cells": [
  {
   "cell_type": "markdown",
   "metadata": {
    "nbpresent": {
     "id": "7d7c783e-0f98-4219-b8e7-c7a1262c3b44"
    },
    "slideshow": {
     "slide_type": "slide"
    }
   },
   "source": [
    "# HOUSEKEEPING\n",
    "### - Calvin\n",
    "\n",
    "# AGENDA\n",
    "### - Team recap\n",
    "### - Hadoop in depth\n",
    "### - Docker"
   ]
  },
  {
   "cell_type": "markdown",
   "metadata": {
    "collapsed": true,
    "nbpresent": {
     "id": "b9e78bc7-65dc-4bb0-a415-ab7691a663e3"
    },
    "slideshow": {
     "slide_type": "slide"
    }
   },
   "source": [
    "# TEAM RECAP\n",
    "## WILL END WHEN YOU NAME MY FAVORITE THING\n",
    "## Homework\n",
    "### Why I google\n",
    "### https://github.com/kelseyhightower/nocode/issues"
   ]
  },
  {
   "cell_type": "markdown",
   "metadata": {
    "collapsed": true,
    "nbpresent": {
     "id": "45e6f6bd-b648-4868-9c11-3c9b1833bec1"
    },
    "slideshow": {
     "slide_type": "slide"
    }
   },
   "source": [
    "# Hadoop with Docker\n",
    "## Docker for quick and easy Hadoop install\n",
    "### - What does Java (bare metal?) installation of Hadoop vs Docker mean?\n",
    "### - Docker - how to install the docker-engine, look at Docker hub with many distros/images/stacks.\n",
    "### - running Hadoop - bundled example MapReduce job from the sequenceiq/hadoop-docker Docker image which included putting file into HDFS and looking at the trace and the output\n",
    "\n",
    "## Hue free offering:\n",
    "\n",
    "### http://gethue.com/hadoop-tutorial-live-demo-hadoop-directly-from-your-browser/\n",
    "\n",
    "### http://demo.gethue.com\n",
    "\n",
    "### running Hadoop bundled example MapReduce job from the sequenceiq/hadoop-docker Docker image."
   ]
  },
  {
   "cell_type": "markdown",
   "metadata": {},
   "source": [
    "# The Big Picture\n",
    "![Big Picture](475week05/hadoop-ecosystem.png)"
   ]
  },
  {
   "cell_type": "markdown",
   "metadata": {},
   "source": [
    "![The Detail Picture](475week05/HADOOP-ECOSYSTEM-Edureka.png)"
   ]
  },
  {
   "cell_type": "markdown",
   "metadata": {},
   "source": [
    "![Block vs Object](475week05/blockVSobject.png)"
   ]
  },
  {
   "cell_type": "markdown",
   "metadata": {},
   "source": [
    "![YARN V1 vs V2](475week05/yarn_w_755.png)"
   ]
  },
  {
   "cell_type": "markdown",
   "metadata": {},
   "source": [
    "![YARN Detail](475week05/YARN-with-Slider.png)"
   ]
  },
  {
   "cell_type": "markdown",
   "metadata": {},
   "source": [
    "## https://hadoopecosystemtable.github.io/\n",
    "## https://www.psc.edu/index.php/bridges-virtual-tour"
   ]
  },
  {
   "cell_type": "markdown",
   "metadata": {},
   "source": [
    "# ADAM\n",
    "\n",
    "## ADAM is a genomics analysis platform with specialized file formats built using Apache Avro, Apache Spark and Parquet. Apache 2 licensed.\n",
    "\n",
    "### Notice the distribution of H2O\n",
    "\n",
    "### https://github.com/bigdatagenomics/adam\n",
    "\n",
    "### http://bdgenomics.org/"
   ]
  },
  {
   "cell_type": "markdown",
   "metadata": {
    "slideshow": {
     "slide_type": "slide"
    }
   },
   "source": [
    "# HOMEWORK\n",
    "### Run one Big Data tool and post a screenshot"
   ]
  }
 ],
 "metadata": {
  "anaconda-cloud": {},
  "kernelspec": {
   "display_name": "Python [Root]",
   "language": "python",
   "name": "Python [Root]"
  },
  "language_info": {
   "codemirror_mode": {
    "name": "ipython",
    "version": 3
   },
   "file_extension": ".py",
   "mimetype": "text/x-python",
   "name": "python",
   "nbconvert_exporter": "python",
   "pygments_lexer": "ipython3",
   "version": "3.5.2"
  },
  "nbpresent": {
   "slides": {
    "0aeddabe-02fb-4104-b8c2-d4b5db52aeb9": {
     "id": "0aeddabe-02fb-4104-b8c2-d4b5db52aeb9",
     "prev": "d64727fd-5e5c-469d-8f86-74435f1eda20",
     "regions": {
      "398c3f37-9446-4145-9d8c-bf11b45267a3": {
       "attrs": {
        "height": 0.8,
        "width": 0.8,
        "x": 0.1,
        "y": 0.1
       },
       "content": {
        "cell": "c6317f62-66d2-48cc-b1ef-f6b4691e8788",
        "part": "whole"
       },
       "id": "398c3f37-9446-4145-9d8c-bf11b45267a3"
      }
     }
    },
    "0eb4c312-6b31-4015-ae5c-070606d04937": {
     "id": "0eb4c312-6b31-4015-ae5c-070606d04937",
     "prev": "5a11ab2e-9b49-432f-8150-404ab8a4e384",
     "regions": {
      "c306def8-a827-4fb0-97e6-d5e633821962": {
       "attrs": {
        "height": 0.8,
        "width": 0.8,
        "x": 0.1,
        "y": 0.1
       },
       "content": {
        "cell": "424043dd-037c-4413-b499-ecbf00d12bc5",
        "part": "whole"
       },
       "id": "c306def8-a827-4fb0-97e6-d5e633821962"
      }
     }
    },
    "130870ce-7d07-4c7d-bdbe-3cc68c316be5": {
     "id": "130870ce-7d07-4c7d-bdbe-3cc68c316be5",
     "prev": "0eb4c312-6b31-4015-ae5c-070606d04937",
     "regions": {
      "c987ae11-60b9-48a2-9eed-1464ae86f698": {
       "attrs": {
        "height": 0.8,
        "width": 0.8,
        "x": 0.1,
        "y": 0.1
       },
       "content": {
        "cell": "3bea37c5-fee4-49b3-9036-84a54a00b337",
        "part": "whole"
       },
       "id": "c987ae11-60b9-48a2-9eed-1464ae86f698"
      }
     }
    },
    "13e3f08a-9917-4c8b-8601-57dab9bf7f26": {
     "id": "13e3f08a-9917-4c8b-8601-57dab9bf7f26",
     "prev": "dfb0348b-2b4d-436c-9706-3c8801b0b9d7",
     "regions": {
      "e271c598-d6c0-4670-a181-34ddfd041722": {
       "attrs": {
        "height": 0.8,
        "width": 0.8,
        "x": 0.1,
        "y": 0.1
       },
       "content": {
        "cell": "8853c12d-acdf-4e97-bf79-7895ad172b6b",
        "part": "whole"
       },
       "id": "e271c598-d6c0-4670-a181-34ddfd041722"
      }
     }
    },
    "4516ec09-34eb-4397-8f3a-e2b7fe2a847d": {
     "id": "4516ec09-34eb-4397-8f3a-e2b7fe2a847d",
     "prev": "abe63bea-a799-416d-bac2-a62bce33911e",
     "regions": {
      "1cf20a69-6c75-48d6-b891-babb4f23ceea": {
       "attrs": {
        "height": 0.8,
        "width": 0.8,
        "x": 0.1,
        "y": 0.1
       },
       "content": {
        "cell": "95d99b92-7903-49e4-a419-c157e2240b11",
        "part": "whole"
       },
       "id": "1cf20a69-6c75-48d6-b891-babb4f23ceea"
      }
     }
    },
    "5a11ab2e-9b49-432f-8150-404ab8a4e384": {
     "id": "5a11ab2e-9b49-432f-8150-404ab8a4e384",
     "prev": "4516ec09-34eb-4397-8f3a-e2b7fe2a847d",
     "regions": {
      "29810a67-513e-4235-81e8-e2be97d030ef": {
       "attrs": {
        "height": 0.8,
        "width": 0.8,
        "x": 0.1,
        "y": 0.1
       },
       "content": {
        "cell": "00af664f-6f58-4e65-8aab-dfee6f3bf6bc",
        "part": "whole"
       },
       "id": "29810a67-513e-4235-81e8-e2be97d030ef"
      }
     }
    },
    "6217d83c-05b6-4a17-a281-48939fab16ea": {
     "id": "6217d83c-05b6-4a17-a281-48939fab16ea",
     "prev": null,
     "regions": {
      "dca64f5c-0df7-41f4-a252-de883cc2476d": {
       "attrs": {
        "height": 0.8,
        "width": 0.8,
        "x": 0.1,
        "y": 0.1
       },
       "content": {
        "cell": "7d7c783e-0f98-4219-b8e7-c7a1262c3b44",
        "part": "whole"
       },
       "id": "dca64f5c-0df7-41f4-a252-de883cc2476d"
      }
     }
    },
    "67d782c1-79ae-4f79-8c4c-829b4e6fe4ad": {
     "id": "67d782c1-79ae-4f79-8c4c-829b4e6fe4ad",
     "prev": "e2510eac-0801-44af-98ee-927f4d1def1b",
     "regions": {
      "bd8ada32-d085-47f6-a17f-cd68c438589b": {
       "attrs": {
        "height": 0.8,
        "width": 0.8,
        "x": 0.1,
        "y": 0.1
       },
       "content": {
        "cell": "efceae99-b84e-42f0-ab8f-c67772b11465",
        "part": "whole"
       },
       "id": "bd8ada32-d085-47f6-a17f-cd68c438589b"
      }
     }
    },
    "6a967814-504e-44e2-b334-57c5ee9c53a2": {
     "id": "6a967814-504e-44e2-b334-57c5ee9c53a2",
     "prev": "b3d37ab2-f8db-4bf3-b2e9-7d94298e798e",
     "regions": {
      "c91cf36a-abe7-48b4-a87a-9cc0499090c7": {
       "attrs": {
        "height": 0.8,
        "width": 0.8,
        "x": 0.1,
        "y": 0.1
       },
       "content": {
        "cell": "45e6f6bd-b648-4868-9c11-3c9b1833bec1",
        "part": "whole"
       },
       "id": "c91cf36a-abe7-48b4-a87a-9cc0499090c7"
      }
     }
    },
    "6d83308a-3db4-4e49-a229-237df23e58c6": {
     "id": "6d83308a-3db4-4e49-a229-237df23e58c6",
     "prev": "bbc4bfaa-fd34-474b-9c21-bc40a297f133",
     "regions": {
      "1ba6bdee-35df-4dab-8250-4243370fa68c": {
       "attrs": {
        "height": 0.8,
        "width": 0.8,
        "x": 0.1,
        "y": 0.1
       },
       "content": {
        "cell": "3c116b0d-4709-43b7-96a2-5b94060706c7",
        "part": "whole"
       },
       "id": "1ba6bdee-35df-4dab-8250-4243370fa68c"
      }
     }
    },
    "8eb69c3e-a806-4f89-a909-0f31bf413d96": {
     "id": "8eb69c3e-a806-4f89-a909-0f31bf413d96",
     "prev": "0aeddabe-02fb-4104-b8c2-d4b5db52aeb9",
     "regions": {
      "a77a3438-00f8-4e1e-9c54-0e7ca86b05f8": {
       "attrs": {
        "height": 0.8,
        "width": 0.8,
        "x": 0.1,
        "y": 0.1
       },
       "content": {
        "cell": "b888c067-92f7-48a2-9b0d-a6e2a0b39d56",
        "part": "whole"
       },
       "id": "a77a3438-00f8-4e1e-9c54-0e7ca86b05f8"
      }
     }
    },
    "93a8ab3e-9da8-4e6e-9046-ee5a9fb868ee": {
     "id": "93a8ab3e-9da8-4e6e-9046-ee5a9fb868ee",
     "prev": "130870ce-7d07-4c7d-bdbe-3cc68c316be5",
     "regions": {
      "7417180a-8344-4944-b070-5b8554c48ff7": {
       "attrs": {
        "height": 0.8,
        "width": 0.8,
        "x": 0.1,
        "y": 0.1
       },
       "content": {
        "cell": "cb798152-a85a-47b5-8345-6d3981e88b20",
        "part": "whole"
       },
       "id": "7417180a-8344-4944-b070-5b8554c48ff7"
      }
     }
    },
    "abe63bea-a799-416d-bac2-a62bce33911e": {
     "id": "abe63bea-a799-416d-bac2-a62bce33911e",
     "prev": "bc15ba3a-217e-4f88-b950-d4de14f3e426",
     "regions": {
      "327b328a-bffa-49c3-8cc0-a2b52ed6b1e9": {
       "attrs": {
        "height": 0.8,
        "width": 0.8,
        "x": 0.1,
        "y": 0.1
       },
       "content": {
        "cell": "b7cc18fb-1965-4a97-9490-065b01ff34b5",
        "part": "whole"
       },
       "id": "327b328a-bffa-49c3-8cc0-a2b52ed6b1e9"
      }
     }
    },
    "ae6f8dcf-cbf7-438e-b6e1-673e6aca7707": {
     "id": "ae6f8dcf-cbf7-438e-b6e1-673e6aca7707",
     "prev": "8eb69c3e-a806-4f89-a909-0f31bf413d96",
     "regions": {
      "2cf86061-cf51-421f-8bbc-f93fe35962bc": {
       "attrs": {
        "height": 0.8,
        "width": 0.8,
        "x": 0.1,
        "y": 0.1
       },
       "content": {
        "cell": "a7bc9c12-3158-4403-b1eb-175373c88899",
        "part": "whole"
       },
       "id": "2cf86061-cf51-421f-8bbc-f93fe35962bc"
      }
     }
    },
    "b3d37ab2-f8db-4bf3-b2e9-7d94298e798e": {
     "id": "b3d37ab2-f8db-4bf3-b2e9-7d94298e798e",
     "prev": "6d83308a-3db4-4e49-a229-237df23e58c6",
     "regions": {
      "957ea61f-90fe-41d8-8678-e5a8ee748adf": {
       "attrs": {
        "height": 0.8,
        "width": 0.8,
        "x": 0.1,
        "y": 0.1
       },
       "content": {
        "cell": "8a3baac6-ba53-4b1f-a5b8-0fbe7f3998d4",
        "part": "whole"
       },
       "id": "957ea61f-90fe-41d8-8678-e5a8ee748adf"
      }
     }
    },
    "bbc4bfaa-fd34-474b-9c21-bc40a297f133": {
     "id": "bbc4bfaa-fd34-474b-9c21-bc40a297f133",
     "prev": "d06eddaa-bbee-4fa4-9509-64a2f54dee7c",
     "regions": {
      "babf60d9-89ca-460a-8c03-de9ccab1820d": {
       "attrs": {
        "height": 0.8,
        "width": 0.8,
        "x": 0.1,
        "y": 0.1
       },
       "content": {
        "cell": "920b6850-32c8-4a43-9245-7cdacbdc83e6",
        "part": "whole"
       },
       "id": "babf60d9-89ca-460a-8c03-de9ccab1820d"
      }
     }
    },
    "bc15ba3a-217e-4f88-b950-d4de14f3e426": {
     "id": "bc15ba3a-217e-4f88-b950-d4de14f3e426",
     "prev": "ff630326-5ef3-40b9-abb8-1652e1ed8155",
     "regions": {
      "a76d68df-20fe-47b9-806b-dcb216a3fd30": {
       "attrs": {
        "height": 0.8,
        "width": 0.8,
        "x": 0.1,
        "y": 0.1
       },
       "content": {
        "cell": "9502d9e9-ce13-4bd5-bd8b-1e4be7fb1ebb",
        "part": "whole"
       },
       "id": "a76d68df-20fe-47b9-806b-dcb216a3fd30"
      }
     }
    },
    "cd6c23fb-d4a8-41fa-a604-528df0e69110": {
     "id": "cd6c23fb-d4a8-41fa-a604-528df0e69110",
     "prev": "67d782c1-79ae-4f79-8c4c-829b4e6fe4ad",
     "regions": {
      "f04f2ec9-6978-4ca6-868b-f9ec32399a04": {
       "attrs": {
        "height": 0.8,
        "width": 0.8,
        "x": 0.1,
        "y": 0.1
       },
       "content": {
        "cell": "f0fbbf01-796a-48a7-b9f6-8ddad570f8b6",
        "part": "whole"
       },
       "id": "f04f2ec9-6978-4ca6-868b-f9ec32399a04"
      }
     }
    },
    "d06eddaa-bbee-4fa4-9509-64a2f54dee7c": {
     "id": "d06eddaa-bbee-4fa4-9509-64a2f54dee7c",
     "prev": "93a8ab3e-9da8-4e6e-9046-ee5a9fb868ee",
     "regions": {
      "81b904df-3bc6-4226-9727-df2eb27bb887": {
       "attrs": {
        "height": 0.8,
        "width": 0.8,
        "x": 0.1,
        "y": 0.1
       },
       "content": {
        "cell": "b9e78bc7-65dc-4bb0-a415-ab7691a663e3",
        "part": "whole"
       },
       "id": "81b904df-3bc6-4226-9727-df2eb27bb887"
      }
     }
    },
    "d64727fd-5e5c-469d-8f86-74435f1eda20": {
     "id": "d64727fd-5e5c-469d-8f86-74435f1eda20",
     "prev": "cd6c23fb-d4a8-41fa-a604-528df0e69110",
     "regions": {
      "f5d6b1f2-eeee-4028-b694-e6a002076d0f": {
       "attrs": {
        "height": 0.8,
        "width": 0.8,
        "x": 0.1,
        "y": 0.1
       },
       "content": {
        "cell": "1e36e2b0-69f8-4f9e-956f-833a6fbfbd7a",
        "part": "whole"
       },
       "id": "f5d6b1f2-eeee-4028-b694-e6a002076d0f"
      }
     }
    },
    "dfb0348b-2b4d-436c-9706-3c8801b0b9d7": {
     "id": "dfb0348b-2b4d-436c-9706-3c8801b0b9d7",
     "prev": "ae6f8dcf-cbf7-438e-b6e1-673e6aca7707",
     "regions": {
      "1efca663-2c95-40e5-aa1a-6a23f0566454": {
       "attrs": {
        "height": 0.8,
        "width": 0.8,
        "x": 0.1,
        "y": 0.1
       },
       "content": {
        "cell": "43b836ea-3e37-4d20-89e6-7ea6b9ebf63e",
        "part": "whole"
       },
       "id": "1efca663-2c95-40e5-aa1a-6a23f0566454"
      }
     }
    },
    "e2510eac-0801-44af-98ee-927f4d1def1b": {
     "id": "e2510eac-0801-44af-98ee-927f4d1def1b",
     "prev": "f4471cbc-eab9-478c-afb5-bdb2d99a06c6",
     "regions": {
      "9d524726-97b7-4f8f-b4e5-9727fd3509b2": {
       "attrs": {
        "height": 0.8,
        "width": 0.8,
        "x": 0.1,
        "y": 0.1
       },
       "content": {
        "cell": "9a746ecf-415f-4ae9-a83e-ff9130053727",
        "part": "whole"
       },
       "id": "9d524726-97b7-4f8f-b4e5-9727fd3509b2"
      }
     }
    },
    "f4471cbc-eab9-478c-afb5-bdb2d99a06c6": {
     "id": "f4471cbc-eab9-478c-afb5-bdb2d99a06c6",
     "prev": "6a967814-504e-44e2-b334-57c5ee9c53a2",
     "regions": {
      "bdda3a47-b474-48b6-be9b-570c781c6c97": {
       "attrs": {
        "height": 0.8,
        "width": 0.8,
        "x": 0.1,
        "y": 0.1
       },
       "content": {
        "cell": "c13eb103-adfb-4fc4-89ec-b74820b7ad74",
        "part": "whole"
       },
       "id": "bdda3a47-b474-48b6-be9b-570c781c6c97"
      }
     }
    },
    "ff630326-5ef3-40b9-abb8-1652e1ed8155": {
     "id": "ff630326-5ef3-40b9-abb8-1652e1ed8155",
     "prev": "6217d83c-05b6-4a17-a281-48939fab16ea",
     "regions": {
      "089d999e-0c92-434b-942b-4e43a414eae2": {
       "attrs": {
        "height": 0.8,
        "width": 0.8,
        "x": 0.1,
        "y": 0.1
       },
       "content": {
        "cell": "94f48ee3-0aa7-45d3-8ddd-c90380fd1756",
        "part": "whole"
       },
       "id": "089d999e-0c92-434b-942b-4e43a414eae2"
      }
     }
    }
   },
   "themes": {}
  }
 },
 "nbformat": 4,
 "nbformat_minor": 1
}
