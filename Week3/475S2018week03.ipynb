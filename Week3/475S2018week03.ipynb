{
 "cells": [
  {
   "cell_type": "markdown",
   "metadata": {
    "nbpresent": {
     "id": "7d7c783e-0f98-4219-b8e7-c7a1262c3b44"
    },
    "slideshow": {
     "slide_type": "slide"
    }
   },
   "source": [
    "# HOUSEKEEPING\n",
    "### - \"Diff Git/Github\" and \"15 min to learn Git\" and \"Mastering Markdown\" to Week 2\n",
    "### - Let's finish CLI\n",
    "# AGENDA \n",
    "### - Team recap\n",
    "### - Docker Demo\n",
    "### - Hadoop Demo\n",
    "### - OpenStack overview\n",
    "### - QA"
   ]
  },
  {
   "cell_type": "markdown",
   "metadata": {},
   "source": [
    "## Let's look at http://www.datasciencetoolkit.org/\n",
    "## - And esp developerdocs\n",
    "## https://www.ncbi.nlm.nih.gov/geo/"
   ]
  },
  {
   "cell_type": "markdown",
   "metadata": {
    "slideshow": {
     "slide_type": "slide"
    }
   },
   "source": [
    "# Who is this?\n",
    "![Grace Hopper](475week04/GraceHoppers.jpg)"
   ]
  },
  {
   "cell_type": "markdown",
   "metadata": {
    "slideshow": {
     "slide_type": "slide"
    }
   },
   "source": [
    "### One of the most brilliant computer scientists - Grace Brewster Murray Hopper.\n",
    "\n",
    "### She also said:\n",
    "![Grace Hopper Quote](475week04/quote-grace-hopper.jpg)"
   ]
  },
  {
   "cell_type": "markdown",
   "metadata": {
    "nbpresent": {
     "id": "9502d9e9-ce13-4bd5-bd8b-1e4be7fb1ebb"
    },
    "slideshow": {
     "slide_type": "slide"
    }
   },
   "source": [
    "## Data Science\n",
    "### Data Scientist?\n",
    "### - Someone wearing all the hats to answer interesting questions from data: Architect, Data Janitor, Programmer, System Admin, Statistician, Decision Maker. \n",
    "### Sense of the hardware architecture (CPU, RAM, Disk) and it's limitations through history (virtual memory), and abstractions that helped us over each limitation (at the risk of blowing off the whole leg).\n",
    "### Also: What is a Java VM and the end of Moore's law."
   ]
  },
  {
   "cell_type": "markdown",
   "metadata": {
    "nbpresent": {
     "id": "95d99b92-7903-49e4-a419-c157e2240b11"
    },
    "slideshow": {
     "slide_type": "slide"
    }
   },
   "source": [
    "## Big Data?\n",
    "### - collection of problems in data science with data sets so large that they require multiple machines and an increasingly advanced collection of algorithms and tools to process.  \n",
    "### Big Data tools such as Hadoop have an eco system help us overcome those limitations. We know how different tools in the Hadoop ecosystem are written in different language better suited for different functions. Why the Big Data problems are data-intensive and not computationally-intensive, how they send code to data nodes. Big Data tools work well with unstructured data."
   ]
  },
  {
   "cell_type": "markdown",
   "metadata": {
    "nbpresent": {
     "id": "00af664f-6f58-4e65-8aab-dfee6f3bf6bc"
    },
    "slideshow": {
     "slide_type": "slide"
    }
   },
   "source": [
    "### - What is Apache Software Foundation (ASF), maker of Hadoop, FOSS Big Data ecosystem. \n",
    "### - What are the four core components of Hadoop (Common, HDFS, YARN, MapReduce), Spark (mini-ecosystem) for realtime analysis, various backend database options with different strengths and weaknesses. \n",
    "### - What are incubating projects such as Zeppelin, providing notebook functionality, as well as different GUIs for Hadoop cluster management (Cloudera Hue)."
   ]
  },
  {
   "cell_type": "markdown",
   "metadata": {
    "nbpresent": {
     "id": "424043dd-037c-4413-b499-ecbf00d12bc5"
    },
    "slideshow": {
     "slide_type": "slide"
    }
   },
   "source": [
    "### What 3rd party providers build solutions on top of the Hadoop ecosystem:\n",
    "### - Microsoft Azure ML Studio offering\n",
    "### - IBM offering (console.ng.bluemix.net vs new-console.ng.bluemix.net vs OpenWhisk)\n",
    "### - Google Cloud Platform (cloud.google.com/products/)\n",
    "### - Amazon Web Services (aws.amazon.com)\n",
    "### - Cloudera (fully open course offering, but provides AWS AMIs, Docker hub images, VMs)\n",
    "### - Also: Oracle, HP Enterprise Vertica, DataBrix, DataStax, AlpineData"
   ]
  },
  {
   "cell_type": "markdown",
   "metadata": {},
   "source": [
    "## ![Microsoft Machine Learning Studio](475week04/MS_ML_Studio.png)"
   ]
  },
  {
   "cell_type": "markdown",
   "metadata": {},
   "source": [
    "![Amazon Offerings](475week04/AWSOffering.png)"
   ]
  },
  {
   "cell_type": "markdown",
   "metadata": {
    "nbpresent": {
     "id": "3bea37c5-fee4-49b3-9036-84a54a00b337"
    },
    "slideshow": {
     "slide_type": "slide"
    }
   },
   "source": [
    "## - What is Open Data Platform Initiative (ODPi.org)? \n",
    "### - Org that makes efforts to standardise Hadoop runtime enviroments for cross-provider portability."
   ]
  },
  {
   "cell_type": "markdown",
   "metadata": {
    "nbpresent": {
     "id": "cb798152-a85a-47b5-8345-6d3981e88b20"
    },
    "slideshow": {
     "slide_type": "slide"
    }
   },
   "source": [
    "# What is:\n",
    "\n",
    "### - a distro (distribution) - is a collection of software tools bundled for easier delivery\n",
    "### - software distribution channel - for this century (Vagrant, Docker, AMIs, etc)\n",
    "### - chipster & galaxy\n",
    "### - kaggle"
   ]
  },
  {
   "cell_type": "markdown",
   "metadata": {
    "nbpresent": {
     "id": "920b6850-32c8-4a43-9245-7cdacbdc83e6"
    },
    "slideshow": {
     "slide_type": "slide"
    }
   },
   "source": [
    "# Hadoop Demo attempt\n",
    "## Hue free offering (not too reliable):\n",
    "\n",
    "## http://gethue.com/hadoop-tutorial-live-demo-hadoop-directly-from-your-browser/\n",
    "\n",
    "## http://demo.gethue.com"
   ]
  },
  {
   "cell_type": "markdown",
   "metadata": {
    "nbpresent": {
     "id": "f0fbbf01-796a-48a7-b9f6-8ddad570f8b6"
    },
    "slideshow": {
     "slide_type": "slide"
    }
   },
   "source": [
    "## https://github.com/bigdatagenomics/adam\n",
    "\n",
    "## ADAM is a genomics analysis platform with specialized file formats built using Apache Avro, Apache Spark and Parquet. Apache 2 licensed. \n",
    "\n",
    "## http://bdgenomics.org/\n",
    "\n",
    "## https://abhishek-tiwari.com/post/mapreduce-and-hadoop-algorithms-in-bioinformatics-papers"
   ]
  },
  {
   "cell_type": "markdown",
   "metadata": {
    "collapsed": true,
    "nbpresent": {
     "id": "c6317f62-66d2-48cc-b1ef-f6b4691e8788"
    },
    "slideshow": {
     "slide_type": "slide"
    }
   },
   "source": [
    "# Confusion points:\n",
    "\n",
    "## - Hadoop Spark vs Spark Java micro framework vs Cisco Spark\n",
    "\n",
    "## - OpenStack Swift vs Swift(lang)\n",
    "\n",
    "## - Missing one more"
   ]
  },
  {
   "cell_type": "markdown",
   "metadata": {
    "nbpresent": {
     "id": "8853c12d-acdf-4e97-bf79-7895ad172b6b"
    },
    "slideshow": {
     "slide_type": "slide"
    }
   },
   "source": [
    "# HOMEWORK\n",
    "## http://rosalind.info/problems/locations/"
   ]
  },
  {
   "cell_type": "markdown",
   "metadata": {},
   "source": [
    "# THE END"
   ]
  }
 ],
 "metadata": {
  "anaconda-cloud": {},
  "kernelspec": {
   "display_name": "Python [Root]",
   "language": "python",
   "name": "Python [Root]"
  },
  "language_info": {
   "codemirror_mode": {
    "name": "ipython",
    "version": 3
   },
   "file_extension": ".py",
   "mimetype": "text/x-python",
   "name": "python",
   "nbconvert_exporter": "python",
   "pygments_lexer": "ipython3",
   "version": "3.5.2"
  },
  "nbpresent": {
   "slides": {
    "0aeddabe-02fb-4104-b8c2-d4b5db52aeb9": {
     "id": "0aeddabe-02fb-4104-b8c2-d4b5db52aeb9",
     "prev": "d64727fd-5e5c-469d-8f86-74435f1eda20",
     "regions": {
      "398c3f37-9446-4145-9d8c-bf11b45267a3": {
       "attrs": {
        "height": 0.8,
        "width": 0.8,
        "x": 0.1,
        "y": 0.1
       },
       "content": {
        "cell": "c6317f62-66d2-48cc-b1ef-f6b4691e8788",
        "part": "whole"
       },
       "id": "398c3f37-9446-4145-9d8c-bf11b45267a3"
      }
     }
    },
    "0eb4c312-6b31-4015-ae5c-070606d04937": {
     "id": "0eb4c312-6b31-4015-ae5c-070606d04937",
     "prev": "5a11ab2e-9b49-432f-8150-404ab8a4e384",
     "regions": {
      "c306def8-a827-4fb0-97e6-d5e633821962": {
       "attrs": {
        "height": 0.8,
        "width": 0.8,
        "x": 0.1,
        "y": 0.1
       },
       "content": {
        "cell": "424043dd-037c-4413-b499-ecbf00d12bc5",
        "part": "whole"
       },
       "id": "c306def8-a827-4fb0-97e6-d5e633821962"
      }
     }
    },
    "130870ce-7d07-4c7d-bdbe-3cc68c316be5": {
     "id": "130870ce-7d07-4c7d-bdbe-3cc68c316be5",
     "prev": "0eb4c312-6b31-4015-ae5c-070606d04937",
     "regions": {
      "c987ae11-60b9-48a2-9eed-1464ae86f698": {
       "attrs": {
        "height": 0.8,
        "width": 0.8,
        "x": 0.1,
        "y": 0.1
       },
       "content": {
        "cell": "3bea37c5-fee4-49b3-9036-84a54a00b337",
        "part": "whole"
       },
       "id": "c987ae11-60b9-48a2-9eed-1464ae86f698"
      }
     }
    },
    "13e3f08a-9917-4c8b-8601-57dab9bf7f26": {
     "id": "13e3f08a-9917-4c8b-8601-57dab9bf7f26",
     "prev": "dfb0348b-2b4d-436c-9706-3c8801b0b9d7",
     "regions": {
      "e271c598-d6c0-4670-a181-34ddfd041722": {
       "attrs": {
        "height": 0.8,
        "width": 0.8,
        "x": 0.1,
        "y": 0.1
       },
       "content": {
        "cell": "8853c12d-acdf-4e97-bf79-7895ad172b6b",
        "part": "whole"
       },
       "id": "e271c598-d6c0-4670-a181-34ddfd041722"
      }
     }
    },
    "4516ec09-34eb-4397-8f3a-e2b7fe2a847d": {
     "id": "4516ec09-34eb-4397-8f3a-e2b7fe2a847d",
     "prev": "abe63bea-a799-416d-bac2-a62bce33911e",
     "regions": {
      "1cf20a69-6c75-48d6-b891-babb4f23ceea": {
       "attrs": {
        "height": 0.8,
        "width": 0.8,
        "x": 0.1,
        "y": 0.1
       },
       "content": {
        "cell": "95d99b92-7903-49e4-a419-c157e2240b11",
        "part": "whole"
       },
       "id": "1cf20a69-6c75-48d6-b891-babb4f23ceea"
      }
     }
    },
    "5a11ab2e-9b49-432f-8150-404ab8a4e384": {
     "id": "5a11ab2e-9b49-432f-8150-404ab8a4e384",
     "prev": "4516ec09-34eb-4397-8f3a-e2b7fe2a847d",
     "regions": {
      "29810a67-513e-4235-81e8-e2be97d030ef": {
       "attrs": {
        "height": 0.8,
        "width": 0.8,
        "x": 0.1,
        "y": 0.1
       },
       "content": {
        "cell": "00af664f-6f58-4e65-8aab-dfee6f3bf6bc",
        "part": "whole"
       },
       "id": "29810a67-513e-4235-81e8-e2be97d030ef"
      }
     }
    },
    "6217d83c-05b6-4a17-a281-48939fab16ea": {
     "id": "6217d83c-05b6-4a17-a281-48939fab16ea",
     "prev": null,
     "regions": {
      "dca64f5c-0df7-41f4-a252-de883cc2476d": {
       "attrs": {
        "height": 0.8,
        "width": 0.8,
        "x": 0.1,
        "y": 0.1
       },
       "content": {
        "cell": "7d7c783e-0f98-4219-b8e7-c7a1262c3b44",
        "part": "whole"
       },
       "id": "dca64f5c-0df7-41f4-a252-de883cc2476d"
      }
     }
    },
    "67d782c1-79ae-4f79-8c4c-829b4e6fe4ad": {
     "id": "67d782c1-79ae-4f79-8c4c-829b4e6fe4ad",
     "prev": "e2510eac-0801-44af-98ee-927f4d1def1b",
     "regions": {
      "bd8ada32-d085-47f6-a17f-cd68c438589b": {
       "attrs": {
        "height": 0.8,
        "width": 0.8,
        "x": 0.1,
        "y": 0.1
       },
       "content": {
        "cell": "efceae99-b84e-42f0-ab8f-c67772b11465",
        "part": "whole"
       },
       "id": "bd8ada32-d085-47f6-a17f-cd68c438589b"
      }
     }
    },
    "6a967814-504e-44e2-b334-57c5ee9c53a2": {
     "id": "6a967814-504e-44e2-b334-57c5ee9c53a2",
     "prev": "b3d37ab2-f8db-4bf3-b2e9-7d94298e798e",
     "regions": {
      "c91cf36a-abe7-48b4-a87a-9cc0499090c7": {
       "attrs": {
        "height": 0.8,
        "width": 0.8,
        "x": 0.1,
        "y": 0.1
       },
       "content": {
        "cell": "45e6f6bd-b648-4868-9c11-3c9b1833bec1",
        "part": "whole"
       },
       "id": "c91cf36a-abe7-48b4-a87a-9cc0499090c7"
      }
     }
    },
    "6d83308a-3db4-4e49-a229-237df23e58c6": {
     "id": "6d83308a-3db4-4e49-a229-237df23e58c6",
     "prev": "bbc4bfaa-fd34-474b-9c21-bc40a297f133",
     "regions": {
      "1ba6bdee-35df-4dab-8250-4243370fa68c": {
       "attrs": {
        "height": 0.8,
        "width": 0.8,
        "x": 0.1,
        "y": 0.1
       },
       "content": {
        "cell": "3c116b0d-4709-43b7-96a2-5b94060706c7",
        "part": "whole"
       },
       "id": "1ba6bdee-35df-4dab-8250-4243370fa68c"
      }
     }
    },
    "8eb69c3e-a806-4f89-a909-0f31bf413d96": {
     "id": "8eb69c3e-a806-4f89-a909-0f31bf413d96",
     "prev": "0aeddabe-02fb-4104-b8c2-d4b5db52aeb9",
     "regions": {
      "a77a3438-00f8-4e1e-9c54-0e7ca86b05f8": {
       "attrs": {
        "height": 0.8,
        "width": 0.8,
        "x": 0.1,
        "y": 0.1
       },
       "content": {
        "cell": "b888c067-92f7-48a2-9b0d-a6e2a0b39d56",
        "part": "whole"
       },
       "id": "a77a3438-00f8-4e1e-9c54-0e7ca86b05f8"
      }
     }
    },
    "93a8ab3e-9da8-4e6e-9046-ee5a9fb868ee": {
     "id": "93a8ab3e-9da8-4e6e-9046-ee5a9fb868ee",
     "prev": "130870ce-7d07-4c7d-bdbe-3cc68c316be5",
     "regions": {
      "7417180a-8344-4944-b070-5b8554c48ff7": {
       "attrs": {
        "height": 0.8,
        "width": 0.8,
        "x": 0.1,
        "y": 0.1
       },
       "content": {
        "cell": "cb798152-a85a-47b5-8345-6d3981e88b20",
        "part": "whole"
       },
       "id": "7417180a-8344-4944-b070-5b8554c48ff7"
      }
     }
    },
    "abe63bea-a799-416d-bac2-a62bce33911e": {
     "id": "abe63bea-a799-416d-bac2-a62bce33911e",
     "prev": "bc15ba3a-217e-4f88-b950-d4de14f3e426",
     "regions": {
      "327b328a-bffa-49c3-8cc0-a2b52ed6b1e9": {
       "attrs": {
        "height": 0.8,
        "width": 0.8,
        "x": 0.1,
        "y": 0.1
       },
       "content": {
        "cell": "b7cc18fb-1965-4a97-9490-065b01ff34b5",
        "part": "whole"
       },
       "id": "327b328a-bffa-49c3-8cc0-a2b52ed6b1e9"
      }
     }
    },
    "ae6f8dcf-cbf7-438e-b6e1-673e6aca7707": {
     "id": "ae6f8dcf-cbf7-438e-b6e1-673e6aca7707",
     "prev": "8eb69c3e-a806-4f89-a909-0f31bf413d96",
     "regions": {
      "2cf86061-cf51-421f-8bbc-f93fe35962bc": {
       "attrs": {
        "height": 0.8,
        "width": 0.8,
        "x": 0.1,
        "y": 0.1
       },
       "content": {
        "cell": "a7bc9c12-3158-4403-b1eb-175373c88899",
        "part": "whole"
       },
       "id": "2cf86061-cf51-421f-8bbc-f93fe35962bc"
      }
     }
    },
    "b3d37ab2-f8db-4bf3-b2e9-7d94298e798e": {
     "id": "b3d37ab2-f8db-4bf3-b2e9-7d94298e798e",
     "prev": "6d83308a-3db4-4e49-a229-237df23e58c6",
     "regions": {
      "957ea61f-90fe-41d8-8678-e5a8ee748adf": {
       "attrs": {
        "height": 0.8,
        "width": 0.8,
        "x": 0.1,
        "y": 0.1
       },
       "content": {
        "cell": "8a3baac6-ba53-4b1f-a5b8-0fbe7f3998d4",
        "part": "whole"
       },
       "id": "957ea61f-90fe-41d8-8678-e5a8ee748adf"
      }
     }
    },
    "bbc4bfaa-fd34-474b-9c21-bc40a297f133": {
     "id": "bbc4bfaa-fd34-474b-9c21-bc40a297f133",
     "prev": "d06eddaa-bbee-4fa4-9509-64a2f54dee7c",
     "regions": {
      "babf60d9-89ca-460a-8c03-de9ccab1820d": {
       "attrs": {
        "height": 0.8,
        "width": 0.8,
        "x": 0.1,
        "y": 0.1
       },
       "content": {
        "cell": "920b6850-32c8-4a43-9245-7cdacbdc83e6",
        "part": "whole"
       },
       "id": "babf60d9-89ca-460a-8c03-de9ccab1820d"
      }
     }
    },
    "bc15ba3a-217e-4f88-b950-d4de14f3e426": {
     "id": "bc15ba3a-217e-4f88-b950-d4de14f3e426",
     "prev": "ff630326-5ef3-40b9-abb8-1652e1ed8155",
     "regions": {
      "a76d68df-20fe-47b9-806b-dcb216a3fd30": {
       "attrs": {
        "height": 0.8,
        "width": 0.8,
        "x": 0.1,
        "y": 0.1
       },
       "content": {
        "cell": "9502d9e9-ce13-4bd5-bd8b-1e4be7fb1ebb",
        "part": "whole"
       },
       "id": "a76d68df-20fe-47b9-806b-dcb216a3fd30"
      }
     }
    },
    "cd6c23fb-d4a8-41fa-a604-528df0e69110": {
     "id": "cd6c23fb-d4a8-41fa-a604-528df0e69110",
     "prev": "67d782c1-79ae-4f79-8c4c-829b4e6fe4ad",
     "regions": {
      "f04f2ec9-6978-4ca6-868b-f9ec32399a04": {
       "attrs": {
        "height": 0.8,
        "width": 0.8,
        "x": 0.1,
        "y": 0.1
       },
       "content": {
        "cell": "f0fbbf01-796a-48a7-b9f6-8ddad570f8b6",
        "part": "whole"
       },
       "id": "f04f2ec9-6978-4ca6-868b-f9ec32399a04"
      }
     }
    },
    "d06eddaa-bbee-4fa4-9509-64a2f54dee7c": {
     "id": "d06eddaa-bbee-4fa4-9509-64a2f54dee7c",
     "prev": "93a8ab3e-9da8-4e6e-9046-ee5a9fb868ee",
     "regions": {
      "81b904df-3bc6-4226-9727-df2eb27bb887": {
       "attrs": {
        "height": 0.8,
        "width": 0.8,
        "x": 0.1,
        "y": 0.1
       },
       "content": {
        "cell": "b9e78bc7-65dc-4bb0-a415-ab7691a663e3",
        "part": "whole"
       },
       "id": "81b904df-3bc6-4226-9727-df2eb27bb887"
      }
     }
    },
    "d64727fd-5e5c-469d-8f86-74435f1eda20": {
     "id": "d64727fd-5e5c-469d-8f86-74435f1eda20",
     "prev": "cd6c23fb-d4a8-41fa-a604-528df0e69110",
     "regions": {
      "f5d6b1f2-eeee-4028-b694-e6a002076d0f": {
       "attrs": {
        "height": 0.8,
        "width": 0.8,
        "x": 0.1,
        "y": 0.1
       },
       "content": {
        "cell": "1e36e2b0-69f8-4f9e-956f-833a6fbfbd7a",
        "part": "whole"
       },
       "id": "f5d6b1f2-eeee-4028-b694-e6a002076d0f"
      }
     }
    },
    "dfb0348b-2b4d-436c-9706-3c8801b0b9d7": {
     "id": "dfb0348b-2b4d-436c-9706-3c8801b0b9d7",
     "prev": "ae6f8dcf-cbf7-438e-b6e1-673e6aca7707",
     "regions": {
      "1efca663-2c95-40e5-aa1a-6a23f0566454": {
       "attrs": {
        "height": 0.8,
        "width": 0.8,
        "x": 0.1,
        "y": 0.1
       },
       "content": {
        "cell": "43b836ea-3e37-4d20-89e6-7ea6b9ebf63e",
        "part": "whole"
       },
       "id": "1efca663-2c95-40e5-aa1a-6a23f0566454"
      }
     }
    },
    "e2510eac-0801-44af-98ee-927f4d1def1b": {
     "id": "e2510eac-0801-44af-98ee-927f4d1def1b",
     "prev": "f4471cbc-eab9-478c-afb5-bdb2d99a06c6",
     "regions": {
      "9d524726-97b7-4f8f-b4e5-9727fd3509b2": {
       "attrs": {
        "height": 0.8,
        "width": 0.8,
        "x": 0.1,
        "y": 0.1
       },
       "content": {
        "cell": "9a746ecf-415f-4ae9-a83e-ff9130053727",
        "part": "whole"
       },
       "id": "9d524726-97b7-4f8f-b4e5-9727fd3509b2"
      }
     }
    },
    "f4471cbc-eab9-478c-afb5-bdb2d99a06c6": {
     "id": "f4471cbc-eab9-478c-afb5-bdb2d99a06c6",
     "prev": "6a967814-504e-44e2-b334-57c5ee9c53a2",
     "regions": {
      "bdda3a47-b474-48b6-be9b-570c781c6c97": {
       "attrs": {
        "height": 0.8,
        "width": 0.8,
        "x": 0.1,
        "y": 0.1
       },
       "content": {
        "cell": "c13eb103-adfb-4fc4-89ec-b74820b7ad74",
        "part": "whole"
       },
       "id": "bdda3a47-b474-48b6-be9b-570c781c6c97"
      }
     }
    },
    "ff630326-5ef3-40b9-abb8-1652e1ed8155": {
     "id": "ff630326-5ef3-40b9-abb8-1652e1ed8155",
     "prev": "6217d83c-05b6-4a17-a281-48939fab16ea",
     "regions": {
      "089d999e-0c92-434b-942b-4e43a414eae2": {
       "attrs": {
        "height": 0.8,
        "width": 0.8,
        "x": 0.1,
        "y": 0.1
       },
       "content": {
        "cell": "94f48ee3-0aa7-45d3-8ddd-c90380fd1756",
        "part": "whole"
       },
       "id": "089d999e-0c92-434b-942b-4e43a414eae2"
      }
     }
    }
   },
   "themes": {}
  }
 },
 "nbformat": 4,
 "nbformat_minor": 1
}
