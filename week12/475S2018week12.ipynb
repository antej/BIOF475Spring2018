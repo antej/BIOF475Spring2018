{
 "cells": [
  {
   "cell_type": "markdown",
   "metadata": {
    "nbpresent": {
     "id": "7d7c783e-0f98-4219-b8e7-c7a1262c3b44"
    },
    "slideshow": {
     "slide_type": "slide"
    }
   },
   "source": [
    "# HOUSEKEEPING \n",
    "### - homework - visualisation\n",
    "### - any other questions/comments?\n",
    "\n",
    "# AGENDA\n",
    "### - \"Study hard what interests you the most in the most undisciplined, irreverent and original manner possible.\" - Richard Feynman\n",
    "### - Q & A"
   ]
  },
  {
   "cell_type": "markdown",
   "metadata": {
    "nbpresent": {
     "id": "9502d9e9-ce13-4bd5-bd8b-1e4be7fb1ebb"
    },
    "slideshow": {
     "slide_type": "slide"
    }
   },
   "source": [
    "### Must mention IPPCR lectures:\n",
    "### https://ippcr.nihtraining.com/archive.php?year=2015\n",
    "### Unit 7: 11/03/2015\tOverview of Hypothesis Testing  Dr. Paul Wakim\n",
    "\n",
    "### https://github.com/biof509/biof509\n",
    "\n",
    "### https://cloud.gov/ (what hardware?)"
   ]
  },
  {
   "cell_type": "markdown",
   "metadata": {},
   "source": [
    "## https://en.m.wikipedia.org/wiki/Overfitting\n",
    "\n",
    "\n",
    "## polyglot persistence vs  polyglot programming (Julia or multi-db type)\n",
    "\n",
    "## Sirajology - Introduction - Learn Python for Data Science #1:\n",
    "### https://www.youtube.com/watch?v=T5pRlIbr6gg\n",
    "\n",
    "## https://towardsdatascience.com/"
   ]
  },
  {
   "cell_type": "markdown",
   "metadata": {},
   "source": [
    "## How to ask the TA a good Semester Project question (or on stackoverflow)?\n",
    "### http://stackoverflow.com/help/how-to-ask"
   ]
  },
  {
   "cell_type": "markdown",
   "metadata": {
    "collapsed": true,
    "nbpresent": {
     "id": "3c2dbd93-d1cf-484d-9701-8c3bc0f547a8"
    }
   },
   "source": [
    "### Bayesian inference; as opposed to frequentist inference (no prior beliefs).\n",
    "\n",
    "### Baysian networks - do not need to know all the variables ahead of time; can update the model as you get more data; \n",
    "### ADGs are also often referred to as directed acyclic graphs DAGS however the term ADG is more precise since the term DAG implies a directed version of an acyclic graph which is not well defined.\n",
    "\n",
    "### BN can be used as classifier or predictor. We can blacklist and whitelist nodes."
   ]
  },
  {
   "cell_type": "markdown",
   "metadata": {},
   "source": [
    "![Deep](475S2018week12/DeepLearningOmics.png)"
   ]
  },
  {
   "cell_type": "markdown",
   "metadata": {},
   "source": [
    "![AI vs](475S2018week12/AI_vs_ML_vs_DL.png)"
   ]
  },
  {
   "cell_type": "markdown",
   "metadata": {},
   "source": [
    "![DNN CNN RNN](475S2018week12/DNN_CNN_RNN_Omics.png)"
   ]
  },
  {
   "cell_type": "markdown",
   "metadata": {},
   "source": [
    "![OmicsAlone](475S2018week12/OmicsAlone.png)"
   ]
  },
  {
   "cell_type": "markdown",
   "metadata": {
    "nbpresent": {
     "id": "d8840497-40dd-47a6-8a05-8df0c12946bd"
    }
   },
   "source": [
    "### https://www.elsevier.com/books/probabilistic-methods-for-bioinformatics/neapolitan/978-0-12-370476-4\n",
    "\n",
    "### (book) Probabilistic Methods for Bioinformatics (1st Edition) with an Introduction to Bayesian Networks By Richard E. Neapolitan"
   ]
  },
  {
   "cell_type": "markdown",
   "metadata": {
    "nbpresent": {
     "id": "f957fb35-76c9-4d6d-9241-f1429210f76e"
    }
   },
   "source": [
    "\n",
    "### Challenges of Gene Bayesian Network\n",
    "- Massive number of variables (genes)\n",
    "- Small number of samples (dozens)\n",
    "- Sparse networks (only a small number of\n",
    "genes directly affect one another)\n",
    "- Two crucial aspects: computational\n",
    "complexity and statistical significance of\n",
    "relations in learned models\n",
    "N. Friedman, 2005\n",
    "\n",
    "- Sequences get mis-sequenced (paper from about 5 years ago), (GGT or GGG)\n"
   ]
  },
  {
   "cell_type": "markdown",
   "metadata": {
    "nbpresent": {
     "id": "b4bca381-e0d5-47e8-8a45-228b952b6c8a"
    }
   },
   "source": [
    "## Solutions\n",
    "- Sparse candidate algorithm (by Nir Friedman):\n",
    "\n",
    "Choose a small candidate set for direct influence for each gene. Find optimal BN constrained on candidates. Iteratively improve candidate set.\n",
    "\n",
    "- Bootstrap confidence estimate: use re-sampling to generate perturbations of training data.  \n",
    "\n",
    "Use the number of times a relation (or feature) is repeated among networks learned from these datasets to estimate confidence of Bayesian network features."
   ]
  },
  {
   "cell_type": "markdown",
   "metadata": {
    "nbpresent": {
     "id": "8c5b62b9-033a-413d-b376-b72127cbdc27"
    }
   },
   "source": [
    "http://chainer.org - A Powerful, Flexible, and Intuitive Framework for Neural Networks (Python-based, open source)\n",
    "\n",
    "https://github.com/NervanaSystems/neon neon is Nervana's (Intel) Python based Deep Learning framework\n",
    "\n",
    "Torch was originally developed at NYU, and is based upon the scripting language Lua\n",
    "\n",
    "http://sebastianruder.com/optimizing-gradient-descent/\n",
    "\n",
    "With appropriate pre-processing, Naive Bayes / aka simple Bayes / aka independence Bayes is competitive in this domain with more advanced methods including support vector machines.\n",
    "\n",
    "-Greg Cooper proved that exact inference in Bayesian networks is NP-hard."
   ]
  },
  {
   "cell_type": "markdown",
   "metadata": {
    "nbpresent": {
     "id": "a35514ae-cdf0-4da4-95e3-f78264919937"
    }
   },
   "source": [
    "\n",
    "https://github.com/tiagoantao/biopython-notebook/tree/master/notebooks\n",
    "\n",
    "https://github.com/gokceneraslan/awesome-deepbio\n",
    "\n",
    "http://www.cs.ubc.ca/~murphyk/Bayes/bayes.html (amazing figure)\n",
    "\n",
    "\n"
   ]
  },
  {
   "cell_type": "markdown",
   "metadata": {
    "nbpresent": {
     "id": "916d110f-b55c-47e8-a490-3c5f4333e7a4"
    }
   },
   "source": [
    "## from http://www.bioss.ac.uk/people/dirk/essays/GeneExpression/bayes_net.html\n",
    "## Correlation versus causality\n",
    "### Does knocking out gene A lead to an increased expression of gene B? However, a Bayesian network is a model of dependencies between random variables, rather than causality.\n",
    "### Learning the Bayesian network structure is an optimization problem in the space of DAGs. The number of such graphs is super-exponential in the number of variables and exhaustive search is intractable (NP-hard problem)."
   ]
  },
  {
   "cell_type": "markdown",
   "metadata": {
    "nbpresent": {
     "id": "5a6ba8fc-0ce3-4c9c-a72b-8ad2fdccef54"
    }
   },
   "source": [
    "\n",
    "Perl-based, inference up to 100 nodes:\n",
    "http://www.picb.ac.cn/hanlab/seqspider.html \n",
    "\n",
    "http://mrbayes.sourceforge.net/ MrBayes: Bayesian Inference of Phylogeny (in C)\n",
    "\n",
    "http://beast.bio.ed.ac.uk/\n",
    "BEAST is a cross-platform program for Bayesian analysis of molecular sequences using MCMC. \n",
    "\n",
    "http://archive.ics.uci.edu/ml/ The UCI Machine Learning Repository\n",
    "\n",
    "R package - bnlearn; \n",
    "https://github.com/ofermend/bayes-net-r-hadoop/blob/master/bn-demo/bn-demo.R\n",
    "\n",
    "Must not forget to mention no-op and count for keepalive (Hadoop when computationally intensive)\n"
   ]
  },
  {
   "cell_type": "markdown",
   "metadata": {
    "nbpresent": {
     "id": "cdefc650-fbaf-471e-ac18-81418dfdca50"
    }
   },
   "source": [
    "http://www.nature.com/cr/journal/v23/n3/full/cr20138a.html\n",
    "\n",
    "https://en.wikipedia.org/wiki/SNV_calling_from_NGS_data\n",
    "\n",
    "https://portal.firecloud.org\n",
    "\n",
    "https://www.broadinstitute.org/blog/time-light-firecloud\n",
    "\n",
    "skflow - Simplified interface for TensorFlow (mimicking Scikit Learn) Via burkesquires\n",
    "https://github.com/tensorflow/tensorflow/tree/r0.11/tensorflow/examples/skflow\n",
    "\n",
    "https://keras.io/ - Keras high-level neural networks Python library for TensorFlow or Theano. \n",
    "\n",
    "https://github.com/tensorflow/tensorflow/tree/master/tensorflow/contrib/bayesflow\n",
    "\n",
    "Recurrent neural networks (RNNs) have become the main neural model for tasks\n",
    "such as natural language processing.\n",
    "\n",
    "http://compbio.bccrc.ca/software/mutationseq/\n",
    "mutationSeq is software for somatic SNV detection using next generation sequencing (NGS) data from matched tumour/normal samples."
   ]
  },
  {
   "cell_type": "markdown",
   "metadata": {
    "nbpresent": {
     "id": "85dce8d6-705f-47b9-be61-234b2eb811c1"
    }
   },
   "source": [
    "Important References: BN in\n",
    "Bioinformatics\n",
    "• N. Friedman. Inferring cellular networks\n",
    "using probabilistic graphical models,\n",
    "Science, v303 p799, 6 Feb 2004.\n",
    "• E. Segal et al.. Module networks: identifying\n",
    "regulatory modules and their condition specific\n",
    "regulators from gene expression\n",
    "data. Nature Genetics, 2003. \n",
    "\n",
    "Using Bayesian networks to analyze expression data - ‎Friedman - Cited by 3248"
   ]
  },
  {
   "cell_type": "markdown",
   "metadata": {},
   "source": [
    "### Essentially approximate dynamic programming\n",
    "#### what is DP, what is recursion?\n",
    "#### http://mmlf.sourceforge.net/ -  Maja Machine Learning Framework (MMLF) \n",
    "#### used for robotics and game theory\n",
    "#### Markov Decision Process is a discrete time stochastic control process.\n",
    "#### Constrained and Fuzzy\n",
    "#### https://xkcd.com/1002/\n",
    "#### http://xkcd.com/1425/ - MK build me a plane story\n",
    "#### http://stats.stackexchange.com/ - Cross Validated\n",
    "#### http://stats.stackexchange.com/users/22311/sycorax - \n"
   ]
  },
  {
   "cell_type": "markdown",
   "metadata": {},
   "source": [
    "#### Bonus: Recurrent reinforcement learning (RRL) - recurrent means that previous output is fed into the model as a part of input\n",
    "#### RRL has more stable performance compared to the Q-learning when exposed to noisy datasets. \n",
    "#### https://webdocs.cs.ualberta.ca/~sutton/book/ebook/the-book.html\n",
    "#### TD learning is a combination of Monte Carlo ideas and dynamic programming (DP) ideas. Like Monte Carlo methods, TD methods can learn directly from raw experience without a model of the environment's dynamics. Like DP, TD methods update estimates based in part on other learned estimates"
   ]
  },
  {
   "cell_type": "markdown",
   "metadata": {},
   "source": [
    "![Deep](475S2018week12/Calvin_Outside.jpeg)"
   ]
  }
 ],
 "metadata": {
  "anaconda-cloud": {},
  "kernelspec": {
   "display_name": "Python 3",
   "language": "python",
   "name": "python3"
  },
  "language_info": {
   "codemirror_mode": {
    "name": "ipython",
    "version": 3
   },
   "file_extension": ".py",
   "mimetype": "text/x-python",
   "name": "python",
   "nbconvert_exporter": "python",
   "pygments_lexer": "ipython3",
   "version": "3.6.4"
  },
  "nbpresent": {
   "slides": {
    "0bcb577b-64fa-478c-8c34-3b3243c78d56": {
     "id": "0bcb577b-64fa-478c-8c34-3b3243c78d56",
     "prev": "750c1067-e788-46fd-a10b-d6b2281c5e03",
     "regions": {
      "50c84356-0abf-419d-b712-2f7859c9fb34": {
       "attrs": {
        "height": 0.8,
        "width": 0.8,
        "x": 0.1,
        "y": 0.1
       },
       "content": {
        "cell": "3c2dbd93-d1cf-484d-9701-8c3bc0f547a8",
        "part": "whole"
       },
       "id": "50c84356-0abf-419d-b712-2f7859c9fb34"
      }
     }
    },
    "1f5657ef-ea07-4615-b0fe-928ea7a9e37a": {
     "id": "1f5657ef-ea07-4615-b0fe-928ea7a9e37a",
     "prev": "fcb31d2e-ba53-4362-8790-3d8d6c55355a",
     "regions": {
      "30f598eb-6702-4b24-9c87-a3e57d6275fb": {
       "attrs": {
        "height": 0.8,
        "width": 0.8,
        "x": 0.1,
        "y": 0.1
       },
       "content": {
        "cell": "a35514ae-cdf0-4da4-95e3-f78264919937",
        "part": "whole"
       },
       "id": "30f598eb-6702-4b24-9c87-a3e57d6275fb"
      }
     }
    },
    "2ea5c2de-53de-4f13-9681-ee044b1a3416": {
     "id": "2ea5c2de-53de-4f13-9681-ee044b1a3416",
     "prev": "fa43c91d-8b5f-4018-802a-f5a8af3361b5",
     "regions": {
      "c4f603cd-fdf6-494a-8553-9516329228ba": {
       "attrs": {
        "height": 0.8,
        "width": 0.8,
        "x": 0.1,
        "y": 0.1
       },
       "content": {
        "cell": "cdefc650-fbaf-471e-ac18-81418dfdca50",
        "part": "whole"
       },
       "id": "c4f603cd-fdf6-494a-8553-9516329228ba"
      }
     }
    },
    "504fdcb3-4279-4f21-997f-bffac4f63b70": {
     "id": "504fdcb3-4279-4f21-997f-bffac4f63b70",
     "prev": "1f5657ef-ea07-4615-b0fe-928ea7a9e37a",
     "regions": {
      "5f8d95f6-1369-4e10-ba63-fe59694b9d70": {
       "attrs": {
        "height": 0.8,
        "width": 0.8,
        "x": 0.1,
        "y": 0.1
       },
       "content": {
        "cell": "916d110f-b55c-47e8-a490-3c5f4333e7a4",
        "part": "whole"
       },
       "id": "5f8d95f6-1369-4e10-ba63-fe59694b9d70"
      }
     }
    },
    "57046bfc-d36f-4fe9-b52e-e280e4163ebd": {
     "id": "57046bfc-d36f-4fe9-b52e-e280e4163ebd",
     "prev": "2ea5c2de-53de-4f13-9681-ee044b1a3416",
     "regions": {
      "99b80ff0-8dc1-44e7-be8d-cca93caa170e": {
       "attrs": {
        "height": 0.8,
        "width": 0.8,
        "x": 0.1,
        "y": 0.1
       },
       "content": {
        "cell": "85dce8d6-705f-47b9-be61-234b2eb811c1",
        "part": "whole"
       },
       "id": "99b80ff0-8dc1-44e7-be8d-cca93caa170e"
      }
     }
    },
    "750c1067-e788-46fd-a10b-d6b2281c5e03": {
     "id": "750c1067-e788-46fd-a10b-d6b2281c5e03",
     "prev": "fb42636b-87b3-43cf-8596-e4db94a081f5",
     "regions": {
      "0f800453-389e-4f7b-99e9-3dec076de399": {
       "attrs": {
        "height": 0.8,
        "width": 0.8,
        "x": 0.1,
        "y": 0.1
       },
       "content": {
        "cell": "51561f7a-619d-44fa-ba67-274eb3080fc3",
        "part": "whole"
       },
       "id": "0f800453-389e-4f7b-99e9-3dec076de399"
      }
     }
    },
    "ac4a6259-4e49-49cf-a4b6-a4d8ae069f81": {
     "id": "ac4a6259-4e49-49cf-a4b6-a4d8ae069f81",
     "prev": "e0783ef8-1d1c-485e-8e28-5c4d01ef8907",
     "regions": {
      "964c3ec4-703b-496f-9678-b46568c24653": {
       "attrs": {
        "height": 0.8,
        "width": 0.8,
        "x": 0.1,
        "y": 0.1
       },
       "content": {
        "cell": "b4bca381-e0d5-47e8-8a45-228b952b6c8a",
        "part": "whole"
       },
       "id": "964c3ec4-703b-496f-9678-b46568c24653"
      }
     }
    },
    "ac7a6bf6-b825-4b51-bc11-c092430a07ee": {
     "id": "ac7a6bf6-b825-4b51-bc11-c092430a07ee",
     "prev": "b2ff2f63-e468-45e3-b7c3-a2e2e4b74ec2",
     "regions": {
      "6049b1a9-64f9-4fca-be4a-77603458c510": {
       "attrs": {
        "height": 0.8,
        "width": 0.8,
        "x": 0.1,
        "y": 0.1
       },
       "content": {
        "cell": "9502d9e9-ce13-4bd5-bd8b-1e4be7fb1ebb",
        "part": "whole"
       },
       "id": "6049b1a9-64f9-4fca-be4a-77603458c510"
      }
     }
    },
    "b2ff2f63-e468-45e3-b7c3-a2e2e4b74ec2": {
     "id": "b2ff2f63-e468-45e3-b7c3-a2e2e4b74ec2",
     "prev": null,
     "regions": {
      "96ac8f94-3252-425d-a0cc-3b13ded16eac": {
       "attrs": {
        "height": 0.8,
        "width": 0.8,
        "x": 0.1,
        "y": 0.1
       },
       "content": {
        "cell": "7d7c783e-0f98-4219-b8e7-c7a1262c3b44",
        "part": "whole"
       },
       "id": "96ac8f94-3252-425d-a0cc-3b13ded16eac"
      }
     }
    },
    "db599407-420d-4b26-8ce4-f008ea2c5a27": {
     "id": "db599407-420d-4b26-8ce4-f008ea2c5a27",
     "prev": "0bcb577b-64fa-478c-8c34-3b3243c78d56",
     "regions": {
      "15162e6f-d45a-4790-9a1b-4e632b0438f7": {
       "attrs": {
        "height": 0.8,
        "width": 0.8,
        "x": 0.1,
        "y": 0.1
       },
       "content": {
        "cell": "d8840497-40dd-47a6-8a05-8df0c12946bd",
        "part": "whole"
       },
       "id": "15162e6f-d45a-4790-9a1b-4e632b0438f7"
      }
     }
    },
    "e0783ef8-1d1c-485e-8e28-5c4d01ef8907": {
     "id": "e0783ef8-1d1c-485e-8e28-5c4d01ef8907",
     "prev": "db599407-420d-4b26-8ce4-f008ea2c5a27",
     "regions": {
      "75f7eed4-c7e9-43c7-b35e-41fc90576159": {
       "attrs": {
        "height": 0.8,
        "width": 0.8,
        "x": 0.1,
        "y": 0.1
       },
       "content": {
        "cell": "f957fb35-76c9-4d6d-9241-f1429210f76e",
        "part": "whole"
       },
       "id": "75f7eed4-c7e9-43c7-b35e-41fc90576159"
      }
     }
    },
    "fa43c91d-8b5f-4018-802a-f5a8af3361b5": {
     "id": "fa43c91d-8b5f-4018-802a-f5a8af3361b5",
     "prev": "504fdcb3-4279-4f21-997f-bffac4f63b70",
     "regions": {
      "4cc496b5-3f35-467e-ba99-d01293cf9a97": {
       "attrs": {
        "height": 0.8,
        "width": 0.8,
        "x": 0.1,
        "y": 0.1
       },
       "content": {
        "cell": "5a6ba8fc-0ce3-4c9c-a72b-8ad2fdccef54",
        "part": "whole"
       },
       "id": "4cc496b5-3f35-467e-ba99-d01293cf9a97"
      }
     }
    },
    "fb42636b-87b3-43cf-8596-e4db94a081f5": {
     "id": "fb42636b-87b3-43cf-8596-e4db94a081f5",
     "prev": "ac7a6bf6-b825-4b51-bc11-c092430a07ee",
     "regions": {
      "ca1b2205-a166-4875-adf2-8c167d1852b3": {
       "attrs": {
        "height": 0.8,
        "width": 0.8,
        "x": 0.1,
        "y": 0.1
       },
       "content": {
        "cell": "8853c12d-acdf-4e97-bf79-7895ad172b6b",
        "part": "whole"
       },
       "id": "ca1b2205-a166-4875-adf2-8c167d1852b3"
      }
     }
    },
    "fcb31d2e-ba53-4362-8790-3d8d6c55355a": {
     "id": "fcb31d2e-ba53-4362-8790-3d8d6c55355a",
     "prev": "ac4a6259-4e49-49cf-a4b6-a4d8ae069f81",
     "regions": {
      "a4e5b2ef-f7bf-4fa8-bb60-63f822cd7411": {
       "attrs": {
        "height": 0.8,
        "width": 0.8,
        "x": 0.1,
        "y": 0.1
       },
       "content": {
        "cell": "8c5b62b9-033a-413d-b376-b72127cbdc27",
        "part": "whole"
       },
       "id": "a4e5b2ef-f7bf-4fa8-bb60-63f822cd7411"
      }
     }
    }
   },
   "themes": {}
  }
 },
 "nbformat": 4,
 "nbformat_minor": 1
}
