{
 "cells": [
  {
   "cell_type": "markdown",
   "metadata": {
    "nbpresent": {
     "id": "7d7c783e-0f98-4219-b8e7-c7a1262c3b44"
    },
    "slideshow": {
     "slide_type": "slide"
    }
   },
   "source": [
    "# HOUSEKEEPING\n",
    "### - homework questions? any other questions/comments?\n",
    "\n",
    "# AGENDA\n",
    "### - Team recap\n",
    "### - Languages: Python vs R (vs Java vs Scala) and Julia\n",
    "### - Clojure language"
   ]
  },
  {
   "cell_type": "markdown",
   "metadata": {
    "slideshow": {
     "slide_type": "slide"
    }
   },
   "source": [
    "http://mattturck.com/bigdata2017/\n",
    "\n",
    "![Matt Turck 2017 Big Data Landscape](475week06/Matt-Turck-FirstMark-2017-Big-Data-Landscape.png)"
   ]
  },
  {
   "cell_type": "markdown",
   "metadata": {
    "nbpresent": {
     "id": "1e36e2b0-69f8-4f9e-956f-833a6fbfbd7a"
    },
    "slideshow": {
     "slide_type": "slide"
    }
   },
   "source": [
    "### * https://abhishek-tiwari.com/post/mapreduce-and-hadoop-algorithms-in-bioinformatics-papers"
   ]
  },
  {
   "cell_type": "markdown",
   "metadata": {
    "slideshow": {
     "slide_type": "slide"
    }
   },
   "source": [
    "![Evolution of Computer Languages](475week06/EvolutionCompLang.jpg)"
   ]
  },
  {
   "cell_type": "markdown",
   "metadata": {
    "slideshow": {
     "slide_type": "slide"
    }
   },
   "source": [
    "## http://www.evanmiller.org/you-cant-dig-upwards.html"
   ]
  },
  {
   "cell_type": "markdown",
   "metadata": {
    "nbpresent": {
     "id": "e4470952-b29a-4638-a16e-76e3cdcdbd85"
    },
    "slideshow": {
     "slide_type": "slide"
    }
   },
   "source": [
    "# Languages: Python vs R (vs Java vs Scala)\n",
    "\n",
    "## In context of:\n",
    "\n",
    "### - data wrangling\n",
    "### - ML/algorithms (possibly a guest lecture)\n",
    "### - statistics/predictive modeling\n",
    "### - visualization techniques\n",
    "\n",
    "## R is statistical, Python is general\n",
    "\n",
    "### https://www.kdnuggets.com/2017/09/python-vs-r-data-science-machine-learning.html\n",
    "\n",
    "## - Performance (can I mention Julia?): \n",
    "### data usually summarized (big->small or medium)\n",
    "### when exploring real-time is preferred (Streaming Hadoop)\n",
    "### idiomatic Scala"
   ]
  },
  {
   "cell_type": "markdown",
   "metadata": {
    "slideshow": {
     "slide_type": "slide"
    }
   },
   "source": [
    "# Clojure \n",
    "### Lisp-like Java-friendly functional language - \n",
    "#### https://en.wikipedia.org/wiki/Clojure\n",
    "#### http://clojuredatascience.com/\n",
    "#### https://speakerdeck.com/chris_betz/big-data-processing-using-apache-spark-and-clojure"
   ]
  },
  {
   "cell_type": "markdown",
   "metadata": {
    "slideshow": {
     "slide_type": "slide"
    }
   },
   "source": [
    "![Financially Valuable Programming Languages](475week06/Valuable-Programming-Languages-paysa.jpg)"
   ]
  },
  {
   "cell_type": "markdown",
   "metadata": {
    "nbpresent": {
     "id": "43b836ea-3e37-4d20-89e6-7ea6b9ebf63e"
    },
    "slideshow": {
     "slide_type": "slide"
    }
   },
   "source": [
    "# overtime: \n",
    "## - WEKA\n",
    "## - meetups"
   ]
  },
  {
   "cell_type": "markdown",
   "metadata": {
    "nbpresent": {
     "id": "8853c12d-acdf-4e97-bf79-7895ad172b6b"
    },
    "slideshow": {
     "slide_type": "slide"
    }
   },
   "source": [
    "# HOMEWORK\n",
    "## - \"Hello World\" in Python and R."
   ]
  },
  {
   "cell_type": "code",
   "execution_count": null,
   "metadata": {
    "slideshow": {
     "slide_type": "skip"
    }
   },
   "outputs": [],
   "source": []
  }
 ],
 "metadata": {
  "anaconda-cloud": {},
  "celltoolbar": "Slideshow",
  "kernelspec": {
   "display_name": "Python 3",
   "language": "python",
   "name": "python3"
  },
  "language_info": {
   "codemirror_mode": {
    "name": "ipython",
    "version": 3
   },
   "file_extension": ".py",
   "mimetype": "text/x-python",
   "name": "python",
   "nbconvert_exporter": "python",
   "pygments_lexer": "ipython3",
   "version": "3.6.4"
  },
  "nbpresent": {
   "slides": {
    "100eb43b-3a3d-4b1d-a47e-e3958c3cb1dd": {
     "id": "100eb43b-3a3d-4b1d-a47e-e3958c3cb1dd",
     "prev": "d7e929e7-ff18-4e6b-9ba6-a571127fe0b8",
     "regions": {
      "30a738c0-2bcc-4269-b04b-3aece604b876": {
       "attrs": {
        "height": 0.8,
        "width": 0.8,
        "x": 0.1,
        "y": 0.1
       },
       "content": {
        "cell": "9502d9e9-ce13-4bd5-bd8b-1e4be7fb1ebb",
        "part": "whole"
       },
       "id": "30a738c0-2bcc-4269-b04b-3aece604b876"
      }
     }
    },
    "13059147-7cb7-4281-bb50-102aa37c5f24": {
     "id": "13059147-7cb7-4281-bb50-102aa37c5f24",
     "prev": "3869c8b0-d029-4c00-b3de-98841444ada4",
     "regions": {
      "c47202ee-2b32-4df9-95e5-846fdd1b7b5d": {
       "attrs": {
        "height": 0.8,
        "width": 0.8,
        "x": 0.1,
        "y": 0.1
       },
       "content": {
        "cell": "75ea2d96-477f-4d3d-9da9-661b3b70ae63",
        "part": "whole"
       },
       "id": "c47202ee-2b32-4df9-95e5-846fdd1b7b5d"
      }
     }
    },
    "3869c8b0-d029-4c00-b3de-98841444ada4": {
     "id": "3869c8b0-d029-4c00-b3de-98841444ada4",
     "prev": "99ab6212-a389-4300-b406-4106233ecefb",
     "regions": {
      "f8fb736b-9d4c-41cd-81a7-f96ac83c4b16": {
       "attrs": {
        "height": 0.8,
        "width": 0.8,
        "x": 0.1,
        "y": 0.1
       },
       "content": {
        "cell": "b682dcff-0927-4f4f-bc4e-3a40d096c7da",
        "part": "whole"
       },
       "id": "f8fb736b-9d4c-41cd-81a7-f96ac83c4b16"
      }
     }
    },
    "45e44fa4-61e8-40b3-99b5-1910ce0c8ff4": {
     "id": "45e44fa4-61e8-40b3-99b5-1910ce0c8ff4",
     "prev": "4799865a-8a8a-4f30-bcbe-0706c7f44f08",
     "regions": {
      "8c857c81-5b72-4136-a02a-661f66656d6a": {
       "attrs": {
        "height": 0.8,
        "width": 0.8,
        "x": 0.1,
        "y": 0.1
       },
       "content": {
        "cell": "16c5241b-a0f9-4f33-849b-a38ad794e10d",
        "part": "whole"
       },
       "id": "8c857c81-5b72-4136-a02a-661f66656d6a"
      }
     }
    },
    "4799865a-8a8a-4f30-bcbe-0706c7f44f08": {
     "id": "4799865a-8a8a-4f30-bcbe-0706c7f44f08",
     "prev": "a0399c2a-778d-4ed3-8d52-6e31e5f56477",
     "regions": {
      "7d67ac80-18b0-42bf-a1f9-07a1e2f634b2": {
       "attrs": {
        "height": 0.8,
        "width": 0.8,
        "x": 0.1,
        "y": 0.1
       },
       "content": {
        "cell": "8853c12d-acdf-4e97-bf79-7895ad172b6b",
        "part": "whole"
       },
       "id": "7d67ac80-18b0-42bf-a1f9-07a1e2f634b2"
      }
     }
    },
    "719253c4-1cfc-443f-aaa0-a9fdac7a96ec": {
     "id": "719253c4-1cfc-443f-aaa0-a9fdac7a96ec",
     "prev": "13059147-7cb7-4281-bb50-102aa37c5f24",
     "regions": {
      "66bd5672-4ebe-4ee6-9569-125a55402a19": {
       "attrs": {
        "height": 0.8,
        "width": 0.8,
        "x": 0.1,
        "y": 0.1
       },
       "content": {
        "cell": "7079c378-b5fe-4ae5-9e33-ffb3a40000c1",
        "part": "whole"
       },
       "id": "66bd5672-4ebe-4ee6-9569-125a55402a19"
      }
     }
    },
    "89f1087b-f709-4c12-8dcd-20f5447cdf02": {
     "id": "89f1087b-f709-4c12-8dcd-20f5447cdf02",
     "prev": "719253c4-1cfc-443f-aaa0-a9fdac7a96ec",
     "regions": {
      "7e90f6fd-7fb6-4356-80d9-3d0063151db1": {
       "attrs": {
        "height": 0.8,
        "width": 0.8,
        "x": 0.1,
        "y": 0.1
       },
       "content": {
        "cell": "1e36e2b0-69f8-4f9e-956f-833a6fbfbd7a",
        "part": "whole"
       },
       "id": "7e90f6fd-7fb6-4356-80d9-3d0063151db1"
      }
     }
    },
    "99ab6212-a389-4300-b406-4106233ecefb": {
     "id": "99ab6212-a389-4300-b406-4106233ecefb",
     "prev": "b25aad8a-881e-43b4-bf63-b0ccd9dec2b7",
     "regions": {
      "e522fd07-03ec-4b79-8b8d-d2074fb204ed": {
       "attrs": {
        "height": 0.8,
        "width": 0.8,
        "x": 0.1,
        "y": 0.1
       },
       "content": {
        "cell": "f0fbbf01-796a-48a7-b9f6-8ddad570f8b6",
        "part": "whole"
       },
       "id": "e522fd07-03ec-4b79-8b8d-d2074fb204ed"
      }
     }
    },
    "a0399c2a-778d-4ed3-8d52-6e31e5f56477": {
     "id": "a0399c2a-778d-4ed3-8d52-6e31e5f56477",
     "prev": "a4885be7-f743-4cf3-b5df-edda289109ca",
     "regions": {
      "dc7db460-8c15-4242-8674-cd5310b84113": {
       "attrs": {
        "height": 0.8,
        "width": 0.8,
        "x": 0.1,
        "y": 0.1
       },
       "content": {
        "cell": "43b836ea-3e37-4d20-89e6-7ea6b9ebf63e",
        "part": "whole"
       },
       "id": "dc7db460-8c15-4242-8674-cd5310b84113"
      }
     }
    },
    "a4885be7-f743-4cf3-b5df-edda289109ca": {
     "id": "a4885be7-f743-4cf3-b5df-edda289109ca",
     "prev": "89f1087b-f709-4c12-8dcd-20f5447cdf02",
     "regions": {
      "ebfdb49a-3078-45a9-977c-844a55159007": {
       "attrs": {
        "height": 0.8,
        "width": 0.8,
        "x": 0.1,
        "y": 0.1
       },
       "content": {
        "cell": "e4470952-b29a-4638-a16e-76e3cdcdbd85",
        "part": "whole"
       },
       "id": "ebfdb49a-3078-45a9-977c-844a55159007"
      }
     }
    },
    "b25aad8a-881e-43b4-bf63-b0ccd9dec2b7": {
     "id": "b25aad8a-881e-43b4-bf63-b0ccd9dec2b7",
     "prev": "bd2e1d16-1caa-40f5-aad7-4d0f4ea7011d",
     "regions": {
      "9b27d8af-1756-4e9e-b2a5-1c2fae356a60": {
       "attrs": {
        "height": 0.8,
        "width": 0.8,
        "x": 0.1,
        "y": 0.1
       },
       "content": {
        "cell": "efceae99-b84e-42f0-ab8f-c67772b11465",
        "part": "whole"
       },
       "id": "9b27d8af-1756-4e9e-b2a5-1c2fae356a60"
      }
     }
    },
    "bd2e1d16-1caa-40f5-aad7-4d0f4ea7011d": {
     "id": "bd2e1d16-1caa-40f5-aad7-4d0f4ea7011d",
     "prev": "e17dff48-cc80-4093-8c69-dd3317b4a8d5",
     "regions": {
      "01f4da11-bc50-4a7d-9e97-b1c759d67183": {
       "attrs": {
        "height": 0.8,
        "width": 0.8,
        "x": 0.1,
        "y": 0.1
       },
       "content": {
        "cell": "9a746ecf-415f-4ae9-a83e-ff9130053727",
        "part": "whole"
       },
       "id": "01f4da11-bc50-4a7d-9e97-b1c759d67183"
      }
     }
    },
    "d7e929e7-ff18-4e6b-9ba6-a571127fe0b8": {
     "id": "d7e929e7-ff18-4e6b-9ba6-a571127fe0b8",
     "prev": null,
     "regions": {
      "103cddb4-fa17-4c4a-ab63-ed73d548a909": {
       "attrs": {
        "height": 0.8,
        "width": 0.8,
        "x": 0.1,
        "y": 0.1
       },
       "content": {
        "cell": "7d7c783e-0f98-4219-b8e7-c7a1262c3b44",
        "part": "whole"
       },
       "id": "103cddb4-fa17-4c4a-ab63-ed73d548a909"
      }
     }
    },
    "e17dff48-cc80-4093-8c69-dd3317b4a8d5": {
     "id": "e17dff48-cc80-4093-8c69-dd3317b4a8d5",
     "prev": "fade3620-9900-4c9f-94ac-cb06dd252791",
     "regions": {
      "7c0ec6f6-211e-4a09-9103-88595aaff02f": {
       "attrs": {
        "height": 0.8,
        "width": 0.8,
        "x": 0.1,
        "y": 0.1
       },
       "content": {
        "cell": "c13eb103-adfb-4fc4-89ec-b74820b7ad74",
        "part": "whole"
       },
       "id": "7c0ec6f6-211e-4a09-9103-88595aaff02f"
      }
     }
    },
    "fade3620-9900-4c9f-94ac-cb06dd252791": {
     "id": "fade3620-9900-4c9f-94ac-cb06dd252791",
     "prev": "fce26e90-c55f-45c2-9c9f-9511df0051aa",
     "regions": {
      "8288247d-6d10-48d6-87ae-5c753984e053": {
       "attrs": {
        "height": 0.8,
        "width": 0.8,
        "x": 0.1,
        "y": 0.1
       },
       "content": {
        "cell": "3c116b0d-4709-43b7-96a2-5b94060706c7",
        "part": "whole"
       },
       "id": "8288247d-6d10-48d6-87ae-5c753984e053"
      }
     }
    },
    "fce26e90-c55f-45c2-9c9f-9511df0051aa": {
     "id": "fce26e90-c55f-45c2-9c9f-9511df0051aa",
     "prev": "100eb43b-3a3d-4b1d-a47e-e3958c3cb1dd",
     "regions": {
      "d9c7b525-8cff-46b7-935f-a0e84f4a91bd": {
       "attrs": {
        "height": 0.8,
        "width": 0.8,
        "x": 0.1,
        "y": 0.1
       },
       "content": {
        "cell": "920b6850-32c8-4a43-9245-7cdacbdc83e6",
        "part": "whole"
       },
       "id": "d9c7b525-8cff-46b7-935f-a0e84f4a91bd"
      }
     }
    }
   },
   "themes": {}
  }
 },
 "nbformat": 4,
 "nbformat_minor": 1
}
