{
 "cells": [
  {
   "cell_type": "markdown",
   "metadata": {
    "nbpresent": {
     "id": "c5f180f2-a6b2-47d7-93bb-d721f23379db"
    }
   },
   "source": [
    "# HOUSEKEEPING\n",
    "## As promised:\n",
    "#### Q: Does the govt shutdown affect classes? A: We are embedded in the government, so if the government is closed, we do not have access to facilities and classrooms, therefore, cannot hold classes. We'd have to figure out a way for make-up classes or extend the term, etc.\n",
    "### The BD2K Guide to the Fundamentals of Data Science Series \n",
    "#### - https://datascience.nih.gov/FundamentalsSeries\n",
    "#### - https://bigdatau.ini.usc.edu/data-science-seminars\n",
    "#### - https://www.youtube.com/channel/UCKIDQOa0JcUd3K9C1TS7FLQ\n",
    "### Now two more excellent books on syllabus\n",
    "### lynda, coursera, ???"
   ]
  },
  {
   "cell_type": "markdown",
   "metadata": {
    "nbpresent": {
     "id": "cf1621b3-cfca-4ffb-9aae-9baf07e8ab60"
    }
   },
   "source": [
    "# AGENDA\n",
    "### Team recap\n",
    "### Plus: why/how use Notebooks, GitHub (see changes, how it works)\n",
    "### Data Sources\n",
    "### Enterprise Architect (System Architecture)\n",
    "### System Administrator (CLI)"
   ]
  },
  {
   "cell_type": "markdown",
   "metadata": {},
   "source": [
    "# Why Jupyter Notebook/Lab?\n",
    "- Easiest way to install everything you need: https://www.anaconda.com/download\n",
    "- http://jupyter.org/\n",
    "- [NBViewer](https://nbviewer.jupyter.org/) for sharing without installing (other than github)\n",
    "- In Beta/development: https://github.com/jupyterlab/jupyterlab\n"
   ]
  },
  {
   "cell_type": "markdown",
   "metadata": {
    "nbpresent": {
     "id": "5180665f-a4b7-4366-9a3e-ffbb5f229fbe"
    }
   },
   "source": [
    "# Why Github?\n",
    "### - What is the difference between Git and GitHub?\n",
    "### - Learn Git in 15 minutes https://try.github.io\n",
    "### - Mastering Markdown https://guides.github.com/features/mastering-markdown/\n",
    "### - ML https://github.com/collections/machine-learning\n",
    "### - Event https://githubconstellation.com/washington-dc/\n",
    "### - IDE https://atom.io/\n",
    "### - Client https://desktop.github.com/\n",
    "### - Gists - code sharing https://gist.github.com/\n",
    "\n",
    "# Checklist?\n",
    "## The “Joel Test” for Data Science (NIH?) and original Joel test"
   ]
  },
  {
   "cell_type": "markdown",
   "metadata": {
    "nbpresent": {
     "id": "8f5d8233-4b2b-4975-8917-a0024010cc9c"
    }
   },
   "source": [
    "# Data Sources\n",
    "### In the links file\n",
    "### How did we get to CKAN?"
   ]
  },
  {
   "cell_type": "markdown",
   "metadata": {
    "nbpresent": {
     "id": "cc40d9e4-978c-4916-a150-ab80a5598100"
    }
   },
   "source": [
    "# Enterprise Architect (System Architecture)\n",
    "- Computer vs System architecture [Von Neumann architecture](https://upload.wikimedia.org/wikipedia/commons/thumb/e/e5/Von_Neumann_Architecture.svg/1200px-Von_Neumann_Architecture.svg.png)\n",
    "- In this class we will discuss Data Science, but with focus on Big Data tools and technologies.\n",
    "- more data points = more power\n",
    "- more control = less abstraction = more complexity\n",
    "- shoot off the whole leg\n",
    "- Big terms: ML, active learning; recommender systems, text analysis/NLP; reinforcement learning\n",
    "- Gartner.com market leaders\n",
    "- Answering the Hadoop question\n",
    "- Jupyter Notebook; is there a centralized resource at NIH?\n",
    "- Google Trends (graph with Hadoop/OpenStack/Serverless)\n",
    "- https://trends.google.com/trends/explore?date=all&q=Hadoop,OpenStack,Serverless"
   ]
  },
  {
   "cell_type": "markdown",
   "metadata": {
    "nbpresent": {
     "id": "f18d591e-f399-477e-8a24-93eba99830ea"
    }
   },
   "source": [
    "# System Administrator (CLI)\n",
    "- Command Line Interface (CLI) vs Graphical User Interface (GUI) vs Application programming interface (API)\n",
    "- Nightmare vs 2 hours from now.\n",
    "- Not trying to turn you into server admins, just power users.\n",
    "<pre>\n",
    "what is OS, kernel, process, deamon/service, code, kernelspace, userspace...\n",
    "Checkpoint 1: everyone clear on the what CLI is? Figure out a good question that tests their understanding. \n",
    "CLI how to connect, from Windows-Putty, from Ma-Terminal, from Linux, hahahahaha, no, seriously.\n",
    "Autocomplete with tab.\n",
    "How to troubleshoot connection issues, timeouts, pings. Connection refused, sshd, what is it, ports.\n",
    "Uname, who are you talking to?\n",
    "What are shells, differences, customizations...\n",
    "How commands are issued, returning vs locking, errors, killing, escaping.\n",
    "What are Deamons?\n",
    "Linux distributions, differences\n",
    "Apt-get vs rpm, vs GUI based software centers.\n",
    "Command line goodies: apropos, top, nohup, unzip, du\n",
    "ls with options, pwd, cd, sudo vs root, mkdir, cp/mv, nano, ps aux | grep python, man, cat, rm, rmdir (must be empty) ippl\n",
    "Files, directories  and permission. \n",
    "How to test your commands,\n",
    "Bash scripts\n",
    "If there's time: history tidbits, \n",
    "Helix task management  \n",
    "Installing software from repos, compiling software. Common problems for both.\n",
    "Mainframes on NIH\n",
    "Pipes, fancy, kill 9, nice, </pre>"
   ]
  },
  {
   "cell_type": "markdown",
   "metadata": {
    "nbpresent": {
     "id": "05fa2333-c99f-426c-aa06-022827604237"
    }
   },
   "source": [
    "# THE END"
   ]
  }
 ],
 "metadata": {
  "anaconda-cloud": {},
  "kernelspec": {
   "display_name": "Python [Root]",
   "language": "python",
   "name": "Python [Root]"
  },
  "language_info": {
   "codemirror_mode": {
    "name": "ipython",
    "version": 3
   },
   "file_extension": ".py",
   "mimetype": "text/x-python",
   "name": "python",
   "nbconvert_exporter": "python",
   "pygments_lexer": "ipython3",
   "version": "3.5.2"
  },
  "nbpresent": {
   "slides": {
    "30d49770-09eb-4050-a2c8-f3d5a4dbbfb5": {
     "id": "30d49770-09eb-4050-a2c8-f3d5a4dbbfb5",
     "prev": "cee1d836-256e-4999-bd45-a1e7bbc170d9",
     "regions": {
      "610b1450-c41d-4371-9662-4c78a89858a7": {
       "attrs": {
        "height": 0.8,
        "width": 0.8,
        "x": 0.1,
        "y": 0.1
       },
       "content": {
        "cell": "8f5d8233-4b2b-4975-8917-a0024010cc9c",
        "part": "whole"
       },
       "id": "610b1450-c41d-4371-9662-4c78a89858a7"
      }
     }
    },
    "64093442-31af-4791-864a-e8a488749452": {
     "id": "64093442-31af-4791-864a-e8a488749452",
     "prev": "726c5e56-82df-4909-a98e-55612b83c2de",
     "regions": {
      "730cb19f-d557-430b-828c-7a134b1750c2": {
       "attrs": {
        "height": 0.8,
        "width": 0.8,
        "x": 0.1,
        "y": 0.1
       },
       "content": {
        "cell": "f18d591e-f399-477e-8a24-93eba99830ea",
        "part": "whole"
       },
       "id": "730cb19f-d557-430b-828c-7a134b1750c2"
      }
     }
    },
    "70576cbd-7048-45bc-8761-6bd3285d2970": {
     "id": "70576cbd-7048-45bc-8761-6bd3285d2970",
     "prev": "846c91e9-f7ab-4b60-90f0-365a8dfca43a",
     "regions": {
      "0cb4995f-6c8d-439c-b488-0c9e3c005421": {
       "attrs": {
        "height": 0.8,
        "width": 0.8,
        "x": 0.1,
        "y": 0.1
       },
       "content": {
        "cell": "cf1621b3-cfca-4ffb-9aae-9baf07e8ab60",
        "part": "whole"
       },
       "id": "0cb4995f-6c8d-439c-b488-0c9e3c005421"
      }
     }
    },
    "726c5e56-82df-4909-a98e-55612b83c2de": {
     "id": "726c5e56-82df-4909-a98e-55612b83c2de",
     "prev": "30d49770-09eb-4050-a2c8-f3d5a4dbbfb5",
     "regions": {
      "0ee34258-d99e-418c-84b7-85be3297040f": {
       "attrs": {
        "height": 0.8,
        "width": 0.8,
        "x": 0.1,
        "y": 0.1
       },
       "content": {
        "cell": "cc40d9e4-978c-4916-a150-ab80a5598100",
        "part": "whole"
       },
       "id": "0ee34258-d99e-418c-84b7-85be3297040f"
      }
     }
    },
    "846c91e9-f7ab-4b60-90f0-365a8dfca43a": {
     "id": "846c91e9-f7ab-4b60-90f0-365a8dfca43a",
     "prev": null,
     "regions": {
      "4d690b6e-3d0d-4a5f-b0f8-b348707c2ac7": {
       "attrs": {
        "height": 0.8,
        "width": 0.8,
        "x": 0.1,
        "y": 0.1
       },
       "content": {
        "cell": "c5f180f2-a6b2-47d7-93bb-d721f23379db",
        "part": "whole"
       },
       "id": "4d690b6e-3d0d-4a5f-b0f8-b348707c2ac7"
      }
     }
    },
    "9ab354f5-7b51-440a-b51c-eae3f49a9a67": {
     "id": "9ab354f5-7b51-440a-b51c-eae3f49a9a67",
     "prev": "64093442-31af-4791-864a-e8a488749452",
     "regions": {
      "827ea745-0379-4884-8cc3-f6876bef667f": {
       "attrs": {
        "height": 0.8,
        "width": 0.8,
        "x": 0.1,
        "y": 0.1
       },
       "content": {
        "cell": "05fa2333-c99f-426c-aa06-022827604237",
        "part": "whole"
       },
       "id": "827ea745-0379-4884-8cc3-f6876bef667f"
      }
     }
    },
    "cee1d836-256e-4999-bd45-a1e7bbc170d9": {
     "id": "cee1d836-256e-4999-bd45-a1e7bbc170d9",
     "prev": "70576cbd-7048-45bc-8761-6bd3285d2970",
     "regions": {
      "6130b936-38e3-4671-a4e4-947308a41e03": {
       "attrs": {
        "height": 0.8,
        "width": 0.8,
        "x": 0.1,
        "y": 0.1
       },
       "content": {
        "cell": "5180665f-a4b7-4366-9a3e-ffbb5f229fbe",
        "part": "whole"
       },
       "id": "6130b936-38e3-4671-a4e4-947308a41e03"
      }
     }
    }
   },
   "themes": {}
  }
 },
 "nbformat": 4,
 "nbformat_minor": 1
}
